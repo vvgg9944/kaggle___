{
 "cells": [
  {
   "cell_type": "code",
   "execution_count": 1,
   "id": "initial_id",
   "metadata": {
    "collapsed": true,
    "ExecuteTime": {
     "end_time": "2024-03-27T20:16:49.873095Z",
     "start_time": "2024-03-27T20:16:47.611584Z"
    }
   },
   "outputs": [],
   "source": [
    "import pandas as pd\n",
    "import numpy as np\n",
    "import os\n",
    "import matplotlib.pyplot as plt\n",
    "import numpy as np\n",
    "import pandas as pd\n",
    "import lightgbm as lgb\n",
    "from sklearn.model_selection import train_test_split\n",
    "from sklearn.metrics import roc_auc_score\n"
   ]
  },
  {
   "cell_type": "markdown",
   "source": [
    "### About dataset\n",
    "\n",
    "This is Kaggle dataset taken from Home Credit - Credit Risk Model Stability competition(https://www.kaggle.com/competitions/home-credit-credit-risk-model-stability).\n",
    "\n",
    "Overview\n",
    "The goal of this competition is to predict which clients are more likely to default on their loans. The evaluation will favor solutions that are stable over time.\n",
    "\n",
    "Your participation may offer consumer finance providers a more reliable and longer-lasting way to assess a potential client’s default risk."
   ],
   "metadata": {
    "collapsed": false
   },
   "id": "6e6ec299918afb29"
  },
  {
   "cell_type": "code",
   "outputs": [
    {
     "data": {
      "text/plain": "'D:/data/kaggle_comp1/'"
     },
     "execution_count": 2,
     "metadata": {},
     "output_type": "execute_result"
    }
   ],
   "source": [
    "# Открываем файл для чтения с использованием контекстного менеджера\n",
    "with open(\"data_path.txt\", \"r\") as file:\n",
    "    # Читаем содержимое файла\n",
    "    dataPath = file.read()\n",
    "dataPath"
   ],
   "metadata": {
    "collapsed": false,
    "ExecuteTime": {
     "end_time": "2024-03-27T20:16:49.888498Z",
     "start_time": "2024-03-27T20:16:49.875156Z"
    }
   },
   "id": "47404e5f01d56f61",
   "execution_count": 2
  },
  {
   "cell_type": "code",
   "outputs": [
    {
     "data": {
      "text/plain": "                     Variable  \\\n0              actualdpd_943P   \n1     actualdpdtolerance_344P   \n2        addres_district_368M   \n3            addres_role_871L   \n4             addres_zip_823M   \n..                        ...   \n460  totinstallast1m_4525188A   \n461        twobodfilling_608L   \n462                  type_25L   \n463            typesuite_864L   \n464           validfrom_1069D   \n\n                                           Description  \n0    Days Past Due (DPD) of previous contract (actu...  \n1                        DPD of client with tolerance.  \n2                    District of the person's address.  \n3                            Role of person's address.  \n4                             Zip code of the address.  \n..                                                 ...  \n460  Total amount of monthly instalments paid in th...  \n461                       Type of application process.  \n462                          Contact type of a person.  \n463  Persons accompanying the client during the loa...  \n464      Date since the client has an active campaign.  \n\n[465 rows x 2 columns]",
      "text/html": "<div>\n<style scoped>\n    .dataframe tbody tr th:only-of-type {\n        vertical-align: middle;\n    }\n\n    .dataframe tbody tr th {\n        vertical-align: top;\n    }\n\n    .dataframe thead th {\n        text-align: right;\n    }\n</style>\n<table border=\"1\" class=\"dataframe\">\n  <thead>\n    <tr style=\"text-align: right;\">\n      <th></th>\n      <th>Variable</th>\n      <th>Description</th>\n    </tr>\n  </thead>\n  <tbody>\n    <tr>\n      <th>0</th>\n      <td>actualdpd_943P</td>\n      <td>Days Past Due (DPD) of previous contract (actu...</td>\n    </tr>\n    <tr>\n      <th>1</th>\n      <td>actualdpdtolerance_344P</td>\n      <td>DPD of client with tolerance.</td>\n    </tr>\n    <tr>\n      <th>2</th>\n      <td>addres_district_368M</td>\n      <td>District of the person's address.</td>\n    </tr>\n    <tr>\n      <th>3</th>\n      <td>addres_role_871L</td>\n      <td>Role of person's address.</td>\n    </tr>\n    <tr>\n      <th>4</th>\n      <td>addres_zip_823M</td>\n      <td>Zip code of the address.</td>\n    </tr>\n    <tr>\n      <th>...</th>\n      <td>...</td>\n      <td>...</td>\n    </tr>\n    <tr>\n      <th>460</th>\n      <td>totinstallast1m_4525188A</td>\n      <td>Total amount of monthly instalments paid in th...</td>\n    </tr>\n    <tr>\n      <th>461</th>\n      <td>twobodfilling_608L</td>\n      <td>Type of application process.</td>\n    </tr>\n    <tr>\n      <th>462</th>\n      <td>type_25L</td>\n      <td>Contact type of a person.</td>\n    </tr>\n    <tr>\n      <th>463</th>\n      <td>typesuite_864L</td>\n      <td>Persons accompanying the client during the loa...</td>\n    </tr>\n    <tr>\n      <th>464</th>\n      <td>validfrom_1069D</td>\n      <td>Date since the client has an active campaign.</td>\n    </tr>\n  </tbody>\n</table>\n<p>465 rows × 2 columns</p>\n</div>"
     },
     "execution_count": 3,
     "metadata": {},
     "output_type": "execute_result"
    }
   ],
   "source": [
    "file_name = \"feature_definitions.csv\"\n",
    "\n",
    "file_path = os.path.join(dataPath, file_name)\n",
    "\n",
    "# Прочитайте CSV файл в DataFrame с помощью pandas\n",
    "df = pd.read_csv(file_path)\n",
    "\n",
    "df"
   ],
   "metadata": {
    "collapsed": false,
    "ExecuteTime": {
     "end_time": "2024-03-27T20:16:49.935270Z",
     "start_time": "2024-03-27T20:16:49.889501Z"
    }
   },
   "id": "d1b3794a560b77e8",
   "execution_count": 3
  },
  {
   "cell_type": "code",
   "outputs": [
    {
     "data": {
      "text/plain": "         case_id  actualdpd_943P  annuity_853A approvaldate_319D  \\\n0              2             0.0         640.2               NaN   \n1              2             0.0        1682.4               NaN   \n2              3             0.0        6140.0               NaN   \n3              4             0.0        2556.6               NaN   \n4              5             0.0           NaN               NaN   \n...          ...             ...           ...               ...   \n3887679  2651092             0.0           0.0               NaN   \n3887680  2651092             0.0        4366.0        2017-11-09   \n3887681  2651092             0.0        2632.2        2015-12-11   \n3887682  2651092             0.0           NaN        2014-02-15   \n3887683  2651092             0.0        3119.2        2012-12-12   \n\n         byoccupationinc_3656910L cancelreason_3545846M  childnum_21L  \\\n0                             NaN              a55475b1           0.0   \n1                             NaN              a55475b1           0.0   \n2                             NaN           P94_109_143           NaN   \n3                             NaN             P24_27_36           NaN   \n4                             NaN           P85_114_140           NaN   \n...                           ...                   ...           ...   \n3887679                       NaN           P94_109_143           NaN   \n3887680                       NaN              a55475b1           NaN   \n3887681                       1.0              a55475b1           1.0   \n3887682                   60000.0              a55475b1           1.0   \n3887683                   25000.0              a55475b1           1.0   \n\n        creationdate_885D  credacc_actualbalance_314A  credacc_credlmt_575A  \\\n0              2013-04-03                         NaN                   0.0   \n1              2013-04-03                         NaN                   0.0   \n2              2019-01-07                         NaN                   0.0   \n3              2019-01-08                         NaN                   0.0   \n4              2019-01-16                         NaN                   NaN   \n...                   ...                         ...                   ...   \n3887679        2018-05-04                         NaN              100000.0   \n3887680        2017-11-09                         NaN                   0.0   \n3887681        2015-12-11                         NaN                   0.0   \n3887682        2014-02-15                         NaN               53300.0   \n3887683        2012-12-12                         NaN                   0.0   \n\n         ...  num_group1  outstandingdebt_522A pmtnum_8L  postype_4733339M  \\\n0        ...           0                   NaN      24.0          a55475b1   \n1        ...           1                   NaN      12.0          a55475b1   \n2        ...           0                   NaN      12.0          a55475b1   \n3        ...           0                   NaN      24.0          a55475b1   \n4        ...           0                   NaN       NaN          a55475b1   \n...      ...         ...                   ...       ...               ...   \n3887679  ...           3                   NaN       NaN        P46_145_78   \n3887680  ...           4                   0.0       5.0       P60_146_156   \n3887681  ...           5                   0.0      14.0        P46_145_78   \n3887682  ...           6                   0.0       NaN        P46_145_78   \n3887683  ...           7                   0.0      12.0       P149_40_170   \n\n         profession_152M rejectreason_755M  rejectreasonclient_4145042M  \\\n0               a55475b1          a55475b1                     a55475b1   \n1               a55475b1          a55475b1                     a55475b1   \n2               a55475b1       P94_109_143                     a55475b1   \n3               a55475b1          a55475b1                     a55475b1   \n4               a55475b1          a55475b1                     a55475b1   \n...                  ...               ...                          ...   \n3887679         a55475b1        P99_56_166                  P94_109_143   \n3887680         a55475b1          a55475b1                     a55475b1   \n3887681         a55475b1          a55475b1                     a55475b1   \n3887682         a55475b1          a55475b1                     a55475b1   \n3887683         a55475b1          a55475b1                     a55475b1   \n\n        revolvingaccount_394A status_219L  tenor_203L  \n0                         NaN           D        24.0  \n1                         NaN           D        12.0  \n2                         NaN           D        12.0  \n3                         NaN           T        24.0  \n4                         NaN           T         NaN  \n...                       ...         ...         ...  \n3887679                   NaN           D         NaN  \n3887680                   NaN           K         5.0  \n3887681                   NaN           K        14.0  \n3887682           680531000.0           K         NaN  \n3887683                   NaN           K        12.0  \n\n[3887684 rows x 41 columns]",
      "text/html": "<div>\n<style scoped>\n    .dataframe tbody tr th:only-of-type {\n        vertical-align: middle;\n    }\n\n    .dataframe tbody tr th {\n        vertical-align: top;\n    }\n\n    .dataframe thead th {\n        text-align: right;\n    }\n</style>\n<table border=\"1\" class=\"dataframe\">\n  <thead>\n    <tr style=\"text-align: right;\">\n      <th></th>\n      <th>case_id</th>\n      <th>actualdpd_943P</th>\n      <th>annuity_853A</th>\n      <th>approvaldate_319D</th>\n      <th>byoccupationinc_3656910L</th>\n      <th>cancelreason_3545846M</th>\n      <th>childnum_21L</th>\n      <th>creationdate_885D</th>\n      <th>credacc_actualbalance_314A</th>\n      <th>credacc_credlmt_575A</th>\n      <th>...</th>\n      <th>num_group1</th>\n      <th>outstandingdebt_522A</th>\n      <th>pmtnum_8L</th>\n      <th>postype_4733339M</th>\n      <th>profession_152M</th>\n      <th>rejectreason_755M</th>\n      <th>rejectreasonclient_4145042M</th>\n      <th>revolvingaccount_394A</th>\n      <th>status_219L</th>\n      <th>tenor_203L</th>\n    </tr>\n  </thead>\n  <tbody>\n    <tr>\n      <th>0</th>\n      <td>2</td>\n      <td>0.0</td>\n      <td>640.2</td>\n      <td>NaN</td>\n      <td>NaN</td>\n      <td>a55475b1</td>\n      <td>0.0</td>\n      <td>2013-04-03</td>\n      <td>NaN</td>\n      <td>0.0</td>\n      <td>...</td>\n      <td>0</td>\n      <td>NaN</td>\n      <td>24.0</td>\n      <td>a55475b1</td>\n      <td>a55475b1</td>\n      <td>a55475b1</td>\n      <td>a55475b1</td>\n      <td>NaN</td>\n      <td>D</td>\n      <td>24.0</td>\n    </tr>\n    <tr>\n      <th>1</th>\n      <td>2</td>\n      <td>0.0</td>\n      <td>1682.4</td>\n      <td>NaN</td>\n      <td>NaN</td>\n      <td>a55475b1</td>\n      <td>0.0</td>\n      <td>2013-04-03</td>\n      <td>NaN</td>\n      <td>0.0</td>\n      <td>...</td>\n      <td>1</td>\n      <td>NaN</td>\n      <td>12.0</td>\n      <td>a55475b1</td>\n      <td>a55475b1</td>\n      <td>a55475b1</td>\n      <td>a55475b1</td>\n      <td>NaN</td>\n      <td>D</td>\n      <td>12.0</td>\n    </tr>\n    <tr>\n      <th>2</th>\n      <td>3</td>\n      <td>0.0</td>\n      <td>6140.0</td>\n      <td>NaN</td>\n      <td>NaN</td>\n      <td>P94_109_143</td>\n      <td>NaN</td>\n      <td>2019-01-07</td>\n      <td>NaN</td>\n      <td>0.0</td>\n      <td>...</td>\n      <td>0</td>\n      <td>NaN</td>\n      <td>12.0</td>\n      <td>a55475b1</td>\n      <td>a55475b1</td>\n      <td>P94_109_143</td>\n      <td>a55475b1</td>\n      <td>NaN</td>\n      <td>D</td>\n      <td>12.0</td>\n    </tr>\n    <tr>\n      <th>3</th>\n      <td>4</td>\n      <td>0.0</td>\n      <td>2556.6</td>\n      <td>NaN</td>\n      <td>NaN</td>\n      <td>P24_27_36</td>\n      <td>NaN</td>\n      <td>2019-01-08</td>\n      <td>NaN</td>\n      <td>0.0</td>\n      <td>...</td>\n      <td>0</td>\n      <td>NaN</td>\n      <td>24.0</td>\n      <td>a55475b1</td>\n      <td>a55475b1</td>\n      <td>a55475b1</td>\n      <td>a55475b1</td>\n      <td>NaN</td>\n      <td>T</td>\n      <td>24.0</td>\n    </tr>\n    <tr>\n      <th>4</th>\n      <td>5</td>\n      <td>0.0</td>\n      <td>NaN</td>\n      <td>NaN</td>\n      <td>NaN</td>\n      <td>P85_114_140</td>\n      <td>NaN</td>\n      <td>2019-01-16</td>\n      <td>NaN</td>\n      <td>NaN</td>\n      <td>...</td>\n      <td>0</td>\n      <td>NaN</td>\n      <td>NaN</td>\n      <td>a55475b1</td>\n      <td>a55475b1</td>\n      <td>a55475b1</td>\n      <td>a55475b1</td>\n      <td>NaN</td>\n      <td>T</td>\n      <td>NaN</td>\n    </tr>\n    <tr>\n      <th>...</th>\n      <td>...</td>\n      <td>...</td>\n      <td>...</td>\n      <td>...</td>\n      <td>...</td>\n      <td>...</td>\n      <td>...</td>\n      <td>...</td>\n      <td>...</td>\n      <td>...</td>\n      <td>...</td>\n      <td>...</td>\n      <td>...</td>\n      <td>...</td>\n      <td>...</td>\n      <td>...</td>\n      <td>...</td>\n      <td>...</td>\n      <td>...</td>\n      <td>...</td>\n      <td>...</td>\n    </tr>\n    <tr>\n      <th>3887679</th>\n      <td>2651092</td>\n      <td>0.0</td>\n      <td>0.0</td>\n      <td>NaN</td>\n      <td>NaN</td>\n      <td>P94_109_143</td>\n      <td>NaN</td>\n      <td>2018-05-04</td>\n      <td>NaN</td>\n      <td>100000.0</td>\n      <td>...</td>\n      <td>3</td>\n      <td>NaN</td>\n      <td>NaN</td>\n      <td>P46_145_78</td>\n      <td>a55475b1</td>\n      <td>P99_56_166</td>\n      <td>P94_109_143</td>\n      <td>NaN</td>\n      <td>D</td>\n      <td>NaN</td>\n    </tr>\n    <tr>\n      <th>3887680</th>\n      <td>2651092</td>\n      <td>0.0</td>\n      <td>4366.0</td>\n      <td>2017-11-09</td>\n      <td>NaN</td>\n      <td>a55475b1</td>\n      <td>NaN</td>\n      <td>2017-11-09</td>\n      <td>NaN</td>\n      <td>0.0</td>\n      <td>...</td>\n      <td>4</td>\n      <td>0.0</td>\n      <td>5.0</td>\n      <td>P60_146_156</td>\n      <td>a55475b1</td>\n      <td>a55475b1</td>\n      <td>a55475b1</td>\n      <td>NaN</td>\n      <td>K</td>\n      <td>5.0</td>\n    </tr>\n    <tr>\n      <th>3887681</th>\n      <td>2651092</td>\n      <td>0.0</td>\n      <td>2632.2</td>\n      <td>2015-12-11</td>\n      <td>1.0</td>\n      <td>a55475b1</td>\n      <td>1.0</td>\n      <td>2015-12-11</td>\n      <td>NaN</td>\n      <td>0.0</td>\n      <td>...</td>\n      <td>5</td>\n      <td>0.0</td>\n      <td>14.0</td>\n      <td>P46_145_78</td>\n      <td>a55475b1</td>\n      <td>a55475b1</td>\n      <td>a55475b1</td>\n      <td>NaN</td>\n      <td>K</td>\n      <td>14.0</td>\n    </tr>\n    <tr>\n      <th>3887682</th>\n      <td>2651092</td>\n      <td>0.0</td>\n      <td>NaN</td>\n      <td>2014-02-15</td>\n      <td>60000.0</td>\n      <td>a55475b1</td>\n      <td>1.0</td>\n      <td>2014-02-15</td>\n      <td>NaN</td>\n      <td>53300.0</td>\n      <td>...</td>\n      <td>6</td>\n      <td>0.0</td>\n      <td>NaN</td>\n      <td>P46_145_78</td>\n      <td>a55475b1</td>\n      <td>a55475b1</td>\n      <td>a55475b1</td>\n      <td>680531000.0</td>\n      <td>K</td>\n      <td>NaN</td>\n    </tr>\n    <tr>\n      <th>3887683</th>\n      <td>2651092</td>\n      <td>0.0</td>\n      <td>3119.2</td>\n      <td>2012-12-12</td>\n      <td>25000.0</td>\n      <td>a55475b1</td>\n      <td>1.0</td>\n      <td>2012-12-12</td>\n      <td>NaN</td>\n      <td>0.0</td>\n      <td>...</td>\n      <td>7</td>\n      <td>0.0</td>\n      <td>12.0</td>\n      <td>P149_40_170</td>\n      <td>a55475b1</td>\n      <td>a55475b1</td>\n      <td>a55475b1</td>\n      <td>NaN</td>\n      <td>K</td>\n      <td>12.0</td>\n    </tr>\n  </tbody>\n</table>\n<p>3887684 rows × 41 columns</p>\n</div>"
     },
     "execution_count": 4,
     "metadata": {},
     "output_type": "execute_result"
    }
   ],
   "source": [
    "file_name = \"csv_files/train/train_applprev_1_0.csv\"\n",
    "\n",
    "file_path = os.path.join(dataPath, file_name)\n",
    "\n",
    "# Прочитайте CSV файл в DataFrame с помощью pandas\n",
    "data1 = pd.read_csv(file_path, dtype={27: str})\n",
    "\n",
    "data1"
   ],
   "metadata": {
    "collapsed": false,
    "ExecuteTime": {
     "end_time": "2024-03-27T20:17:04.647108Z",
     "start_time": "2024-03-27T20:16:49.936866Z"
    }
   },
   "id": "16f30fcb15fa4e28",
   "execution_count": 4
  },
  {
   "cell_type": "code",
   "outputs": [
    {
     "name": "stdout",
     "output_type": "stream",
     "text": [
      "<class 'pandas.core.frame.DataFrame'>\n",
      "RangeIndex: 3887684 entries, 0 to 3887683\n",
      "Data columns (total 41 columns):\n",
      " #   Column                       Dtype  \n",
      "---  ------                       -----  \n",
      " 0   case_id                      int64  \n",
      " 1   actualdpd_943P               float64\n",
      " 2   annuity_853A                 float64\n",
      " 3   approvaldate_319D            object \n",
      " 4   byoccupationinc_3656910L     float64\n",
      " 5   cancelreason_3545846M        object \n",
      " 6   childnum_21L                 float64\n",
      " 7   creationdate_885D            object \n",
      " 8   credacc_actualbalance_314A   float64\n",
      " 9   credacc_credlmt_575A         float64\n",
      " 10  credacc_maxhisbal_375A       float64\n",
      " 11  credacc_minhisbal_90A        float64\n",
      " 12  credacc_status_367L          object \n",
      " 13  credacc_transactions_402L    float64\n",
      " 14  credamount_590A              float64\n",
      " 15  credtype_587L                object \n",
      " 16  currdebt_94A                 float64\n",
      " 17  dateactivated_425D           object \n",
      " 18  district_544M                object \n",
      " 19  downpmt_134A                 float64\n",
      " 20  dtlastpmt_581D               object \n",
      " 21  dtlastpmtallstes_3545839D    object \n",
      " 22  education_1138M              object \n",
      " 23  employedfrom_700D            object \n",
      " 24  familystate_726L             object \n",
      " 25  firstnonzeroinstldate_307D   object \n",
      " 26  inittransactioncode_279L     object \n",
      " 27  isbidproduct_390L            object \n",
      " 28  isdebitcard_527L             object \n",
      " 29  mainoccupationinc_437A       float64\n",
      " 30  maxdpdtolerance_577P         float64\n",
      " 31  num_group1                   int64  \n",
      " 32  outstandingdebt_522A         float64\n",
      " 33  pmtnum_8L                    float64\n",
      " 34  postype_4733339M             object \n",
      " 35  profession_152M              object \n",
      " 36  rejectreason_755M            object \n",
      " 37  rejectreasonclient_4145042M  object \n",
      " 38  revolvingaccount_394A        float64\n",
      " 39  status_219L                  object \n",
      " 40  tenor_203L                   float64\n",
      "dtypes: float64(18), int64(2), object(21)\n",
      "memory usage: 1.2+ GB\n"
     ]
    }
   ],
   "source": [
    "data1.info()\n"
   ],
   "metadata": {
    "collapsed": false,
    "ExecuteTime": {
     "end_time": "2024-03-27T20:17:04.692371Z",
     "start_time": "2024-03-27T20:17:04.653163Z"
    }
   },
   "id": "b201dcca54cca0d8",
   "execution_count": 5
  },
  {
   "cell_type": "code",
   "outputs": [
    {
     "data": {
      "text/plain": "case_id                              0\nactualdpd_943P                    2234\nannuity_853A                    155851\napprovaldate_319D              1766021\nbyoccupationinc_3656910L       2896024\ncancelreason_3545846M                0\nchildnum_21L                   1953893\ncreationdate_885D                   35\ncredacc_actualbalance_314A     3719506\ncredacc_credlmt_575A            119070\ncredacc_maxhisbal_375A         3719506\ncredacc_minhisbal_90A          3719506\ncredacc_status_367L            3719506\ncredacc_transactions_402L      3719506\ncredamount_590A                 123329\ncredtype_587L                   123329\ncurrdebt_94A                   1270377\ndateactivated_425D             1844702\ndistrict_544M                        0\ndownpmt_134A                    123329\ndtlastpmt_581D                 2860375\ndtlastpmtallstes_3545839D      2434155\neducation_1138M                      0\nemployedfrom_700D              2180869\nfamilystate_726L               1245201\nfirstnonzeroinstldate_307D      365175\ninittransactioncode_279L        123329\nisbidproduct_390L                   35\nisdebitcard_527L               3637550\nmainoccupationinc_437A           36612\nmaxdpdtolerance_577P           1817378\nnum_group1                           0\noutstandingdebt_522A           1277922\npmtnum_8L                       312833\npostype_4733339M                     0\nprofession_152M                      0\nrejectreason_755M                    0\nrejectreasonclient_4145042M          0\nrevolvingaccount_394A          3731033\nstatus_219L                         35\ntenor_203L                      312833\ndtype: int64"
     },
     "execution_count": 6,
     "metadata": {},
     "output_type": "execute_result"
    }
   ],
   "source": [
    "data1.isna().sum()"
   ],
   "metadata": {
    "collapsed": false,
    "ExecuteTime": {
     "end_time": "2024-03-27T20:17:06.637953Z",
     "start_time": "2024-03-27T20:17:04.694474Z"
    }
   },
   "id": "4f558bc3d3952ee0",
   "execution_count": 6
  },
  {
   "cell_type": "code",
   "outputs": [
    {
     "data": {
      "text/plain": "Index(['case_id', 'actualdpd_943P', 'annuity_853A', 'approvaldate_319D',\n       'byoccupationinc_3656910L', 'cancelreason_3545846M', 'childnum_21L',\n       'creationdate_885D', 'credacc_actualbalance_314A',\n       'credacc_credlmt_575A', 'credacc_maxhisbal_375A',\n       'credacc_minhisbal_90A', 'credacc_status_367L',\n       'credacc_transactions_402L', 'credamount_590A', 'credtype_587L',\n       'currdebt_94A', 'dateactivated_425D', 'district_544M', 'downpmt_134A',\n       'dtlastpmt_581D', 'dtlastpmtallstes_3545839D', 'education_1138M',\n       'employedfrom_700D', 'familystate_726L', 'firstnonzeroinstldate_307D',\n       'inittransactioncode_279L', 'isbidproduct_390L', 'isdebitcard_527L',\n       'mainoccupationinc_437A', 'maxdpdtolerance_577P', 'num_group1',\n       'outstandingdebt_522A', 'pmtnum_8L', 'postype_4733339M',\n       'profession_152M', 'rejectreason_755M', 'rejectreasonclient_4145042M',\n       'revolvingaccount_394A', 'status_219L', 'tenor_203L'],\n      dtype='object')"
     },
     "execution_count": 7,
     "metadata": {},
     "output_type": "execute_result"
    }
   ],
   "source": [
    "data1.columns"
   ],
   "metadata": {
    "collapsed": false,
    "ExecuteTime": {
     "end_time": "2024-03-27T20:17:06.653050Z",
     "start_time": "2024-03-27T20:17:06.639960Z"
    }
   },
   "id": "3eeb5d71d6cf663e",
   "execution_count": 7
  },
  {
   "cell_type": "code",
   "outputs": [
    {
     "name": "stderr",
     "output_type": "stream",
     "text": [
      "C:\\Users\\Peter\\AppData\\Local\\Temp\\ipykernel_9988\\3419565707.py:16: DtypeWarning: Columns (20,45,46,53,57,84,143,146,167) have mixed types. Specify dtype option on import or set low_memory=False.\n",
      "  pd.read_csv(dataPath + \"csv_files/train/train_static_0_0.csv\").pipe(convert_strings),\n",
      "C:\\Users\\Peter\\AppData\\Local\\Temp\\ipykernel_9988\\3419565707.py:17: DtypeWarning: Columns (20,45,46,56,57,84,143,146,167) have mixed types. Specify dtype option on import or set low_memory=False.\n",
      "  pd.read_csv(dataPath + \"csv_files/train/train_static_0_1.csv\").pipe(convert_strings),\n",
      "C:\\Users\\Peter\\AppData\\Local\\Temp\\ipykernel_9988\\3419565707.py:22: DtypeWarning: Columns (1,2,3,4,7,45,46,47,48) have mixed types. Specify dtype option on import or set low_memory=False.\n",
      "  train_static_cb = pd.read_csv(dataPath + \"csv_files/train/train_static_cb_0.csv\").pipe(convert_strings)\n",
      "C:\\Users\\Peter\\AppData\\Local\\Temp\\ipykernel_9988\\3419565707.py:23: DtypeWarning: Columns (16) have mixed types. Specify dtype option on import or set low_memory=False.\n",
      "  train_person_1 = pd.read_csv(dataPath + \"csv_files/train/train_person_1.csv\").pipe(convert_strings)\n",
      "C:\\Users\\Peter\\AppData\\Local\\Temp\\ipykernel_9988\\3419565707.py:26: FutureWarning: The behavior of DataFrame concatenation with empty or all-NA entries is deprecated. In a future version, this will no longer exclude empty or all-NA columns when determining the result dtypes. To retain the old behavior, exclude the relevant entries before the concat operation.\n",
      "  test_static = pd.concat(\n",
      "C:\\Users\\Peter\\AppData\\Local\\Temp\\ipykernel_9988\\3419565707.py:26: FutureWarning: The behavior of DataFrame concatenation with empty or all-NA entries is deprecated. In a future version, this will no longer exclude empty or all-NA columns when determining the result dtypes. To retain the old behavior, exclude the relevant entries before the concat operation.\n",
      "  test_static = pd.concat(\n"
     ]
    }
   ],
   "source": [
    "# dataPath = \"/kaggle/input/home-credit-credit-risk-model-stability/\"\n",
    "\n",
    "def convert_strings(df: pd.DataFrame) -> pd.DataFrame:\n",
    "    for col in df.columns:\n",
    "        if df[col].dtype.name in ['object', 'string']:\n",
    "            df[col] = df[col].astype(\"string\").astype('category')\n",
    "            current_categories = df[col].cat.categories\n",
    "            new_categories = current_categories.to_list() + [\"Unknown\"]\n",
    "            new_dtype = pd.CategoricalDtype(categories=new_categories, ordered=True)\n",
    "            df[col] = df[col].astype(new_dtype)\n",
    "    return df\n",
    "\n",
    "train_basetable = pd.read_csv(dataPath + \"csv_files/train/train_base.csv\")\n",
    "train_static = pd.concat(\n",
    "    [\n",
    "        pd.read_csv(dataPath + \"csv_files/train/train_static_0_0.csv\").pipe(convert_strings),\n",
    "        pd.read_csv(dataPath + \"csv_files/train/train_static_0_1.csv\").pipe(convert_strings),\n",
    "    ],\n",
    "    axis=0,\n",
    "    ignore_index=True\n",
    ")\n",
    "train_static_cb = pd.read_csv(dataPath + \"csv_files/train/train_static_cb_0.csv\").pipe(convert_strings)\n",
    "train_person_1 = pd.read_csv(dataPath + \"csv_files/train/train_person_1.csv\").pipe(convert_strings)\n",
    "train_credit_bureau_b_2 = pd.read_csv(dataPath + \"csv_files/train/train_credit_bureau_b_2.csv\").pipe(convert_strings)\n",
    "test_basetable = pd.read_csv(dataPath + \"csv_files/test/test_base.csv\")\n",
    "test_static = pd.concat(\n",
    "    [\n",
    "        pd.read_csv(dataPath + \"csv_files/test/test_static_0_0.csv\").pipe(convert_strings),\n",
    "        pd.read_csv(dataPath + \"csv_files/test/test_static_0_1.csv\").pipe(convert_strings),\n",
    "        pd.read_csv(dataPath + \"csv_files/test/test_static_0_2.csv\").pipe(convert_strings),\n",
    "    ],\n",
    "    axis=0,\n",
    "    ignore_index=True\n",
    ")\n",
    "test_static_cb = pd.read_csv(dataPath + \"csv_files/test/test_static_cb_0.csv\").pipe(convert_strings)\n",
    "test_person_1 = pd.read_csv(dataPath + \"csv_files/test/test_person_1.csv\").pipe(convert_strings)\n",
    "test_credit_bureau_b_2 = pd.read_csv(dataPath + \"csv_files/test/test_credit_bureau_b_2.csv\").pipe(convert_strings)"
   ],
   "metadata": {
    "collapsed": false,
    "ExecuteTime": {
     "end_time": "2024-03-27T20:17:59.711110Z",
     "start_time": "2024-03-27T20:17:06.654657Z"
    }
   },
   "id": "9c759bceb0ced3e4",
   "execution_count": 8
  },
  {
   "cell_type": "code",
   "outputs": [
    {
     "ename": "KeyError",
     "evalue": "\"['num_group1'] not found in axis\"",
     "output_type": "error",
     "traceback": [
      "\u001B[1;31m---------------------------------------------------------------------------\u001B[0m",
      "\u001B[1;31mKeyError\u001B[0m                                  Traceback (most recent call last)",
      "Cell \u001B[1;32mIn[17], line 10\u001B[0m\n\u001B[0;32m      3\u001B[0m train_person_1_feats_1 \u001B[38;5;241m=\u001B[39m train_person_1\u001B[38;5;241m.\u001B[39mgroupby(\u001B[38;5;124m\"\u001B[39m\u001B[38;5;124mcase_id\u001B[39m\u001B[38;5;124m\"\u001B[39m)\u001B[38;5;241m.\u001B[39magg(\n\u001B[0;32m      4\u001B[0m     {\u001B[38;5;124m\"\u001B[39m\u001B[38;5;124mmainoccupationinc_384A\u001B[39m\u001B[38;5;124m\"\u001B[39m: \u001B[38;5;124m\"\u001B[39m\u001B[38;5;124mmax\u001B[39m\u001B[38;5;124m\"\u001B[39m,\n\u001B[0;32m      5\u001B[0m      \u001B[38;5;124m\"\u001B[39m\u001B[38;5;124mincometype_1044T\u001B[39m\u001B[38;5;124m\"\u001B[39m: \u001B[38;5;28;01mlambda\u001B[39;00m x: (x \u001B[38;5;241m==\u001B[39m \u001B[38;5;124m\"\u001B[39m\u001B[38;5;124mSELFEMPLOYED\u001B[39m\u001B[38;5;124m\"\u001B[39m)\u001B[38;5;241m.\u001B[39mmax()}\n\u001B[0;32m      6\u001B[0m )\u001B[38;5;241m.\u001B[39mrename(columns\u001B[38;5;241m=\u001B[39m{\u001B[38;5;124m\"\u001B[39m\u001B[38;5;124mmainoccupationinc_384A\u001B[39m\u001B[38;5;124m\"\u001B[39m: \u001B[38;5;124m\"\u001B[39m\u001B[38;5;124mmainoccupationinc_384A_max\u001B[39m\u001B[38;5;124m\"\u001B[39m,\n\u001B[0;32m      7\u001B[0m                   \u001B[38;5;124m\"\u001B[39m\u001B[38;5;124mincometype_1044T\u001B[39m\u001B[38;5;124m\"\u001B[39m: \u001B[38;5;124m\"\u001B[39m\u001B[38;5;124mmainoccupationinc_384A_any_selfemployed\u001B[39m\u001B[38;5;124m\"\u001B[39m})\n\u001B[0;32m      9\u001B[0m \u001B[38;5;66;03m# Here num_group1=0 has special meaning, it is the person who applied for the loan.\u001B[39;00m\n\u001B[1;32m---> 10\u001B[0m train_person_1_feats_2 \u001B[38;5;241m=\u001B[39m \u001B[43mtrain_person_1\u001B[49m\u001B[43m[\u001B[49m\u001B[43mtrain_person_1\u001B[49m\u001B[43m[\u001B[49m\u001B[38;5;124;43m\"\u001B[39;49m\u001B[38;5;124;43mnum_group1\u001B[39;49m\u001B[38;5;124;43m\"\u001B[39;49m\u001B[43m]\u001B[49m\u001B[43m \u001B[49m\u001B[38;5;241;43m==\u001B[39;49m\u001B[43m \u001B[49m\u001B[38;5;241;43m0\u001B[39;49m\u001B[43m]\u001B[49m\u001B[43m[\u001B[49m\u001B[43m[\u001B[49m\u001B[38;5;124;43m\"\u001B[39;49m\u001B[38;5;124;43mcase_id\u001B[39;49m\u001B[38;5;124;43m\"\u001B[39;49m\u001B[43m,\u001B[49m\u001B[43m \u001B[49m\u001B[38;5;124;43m\"\u001B[39;49m\u001B[38;5;124;43mhousetype_905L\u001B[39;49m\u001B[38;5;124;43m\"\u001B[39;49m\u001B[43m]\u001B[49m\u001B[43m]\u001B[49m\u001B[43m \u001B[49m\u001B[43m\\\u001B[49m\n\u001B[0;32m     11\u001B[0m \u001B[43m    \u001B[49m\u001B[38;5;241;43m.\u001B[39;49m\u001B[43mrename\u001B[49m\u001B[43m(\u001B[49m\u001B[43mcolumns\u001B[49m\u001B[38;5;241;43m=\u001B[39;49m\u001B[43m{\u001B[49m\u001B[38;5;124;43m\"\u001B[39;49m\u001B[38;5;124;43mhousetype_905L\u001B[39;49m\u001B[38;5;124;43m\"\u001B[39;49m\u001B[43m:\u001B[49m\u001B[43m \u001B[49m\u001B[38;5;124;43m\"\u001B[39;49m\u001B[38;5;124;43mperson_housetype\u001B[39;49m\u001B[38;5;124;43m\"\u001B[39;49m\u001B[43m}\u001B[49m\u001B[43m)\u001B[49m\u001B[38;5;241;43m.\u001B[39;49m\u001B[43mdrop\u001B[49m\u001B[43m(\u001B[49m\u001B[43mcolumns\u001B[49m\u001B[38;5;241;43m=\u001B[39;49m\u001B[43m[\u001B[49m\u001B[38;5;124;43m\"\u001B[39;49m\u001B[38;5;124;43mnum_group1\u001B[39;49m\u001B[38;5;124;43m\"\u001B[39;49m\u001B[43m]\u001B[49m\u001B[43m)\u001B[49m\n\u001B[0;32m     13\u001B[0m \u001B[38;5;66;03m# Here we have num_goup1 and num_group2, so we need to aggregate again.\u001B[39;00m\n\u001B[0;32m     14\u001B[0m train_credit_bureau_b_2_feats \u001B[38;5;241m=\u001B[39m train_credit_bureau_b_2\u001B[38;5;241m.\u001B[39mgroupby(\u001B[38;5;124m\"\u001B[39m\u001B[38;5;124mcase_id\u001B[39m\u001B[38;5;124m\"\u001B[39m)\u001B[38;5;241m.\u001B[39magg(\n\u001B[0;32m     15\u001B[0m     {\u001B[38;5;124m\"\u001B[39m\u001B[38;5;124mpmts_pmtsoverdue_635A\u001B[39m\u001B[38;5;124m\"\u001B[39m: \u001B[38;5;124m\"\u001B[39m\u001B[38;5;124mmax\u001B[39m\u001B[38;5;124m\"\u001B[39m,\n\u001B[0;32m     16\u001B[0m      \u001B[38;5;124m\"\u001B[39m\u001B[38;5;124mpmts_dpdvalue_108P\u001B[39m\u001B[38;5;124m\"\u001B[39m: \u001B[38;5;28;01mlambda\u001B[39;00m x: (x \u001B[38;5;241m>\u001B[39m \u001B[38;5;241m31\u001B[39m)\u001B[38;5;241m.\u001B[39mmax()}\n\u001B[0;32m     17\u001B[0m )\u001B[38;5;241m.\u001B[39mrename(columns\u001B[38;5;241m=\u001B[39m{\u001B[38;5;124m\"\u001B[39m\u001B[38;5;124mpmts_pmtsoverdue_635A\u001B[39m\u001B[38;5;124m\"\u001B[39m: \u001B[38;5;124m\"\u001B[39m\u001B[38;5;124mpmts_pmtsoverdue_635A_max\u001B[39m\u001B[38;5;124m\"\u001B[39m,\n\u001B[0;32m     18\u001B[0m                   \u001B[38;5;124m\"\u001B[39m\u001B[38;5;124mpmts_dpdvalue_108P\u001B[39m\u001B[38;5;124m\"\u001B[39m: \u001B[38;5;124m\"\u001B[39m\u001B[38;5;124mpmts_dpdvalue_108P_over31\u001B[39m\u001B[38;5;124m\"\u001B[39m})\n",
      "File \u001B[1;32mC:\\ProgramData\\anaconda3\\envs\\kaggle\\lib\\site-packages\\pandas\\core\\frame.py:5344\u001B[0m, in \u001B[0;36mDataFrame.drop\u001B[1;34m(self, labels, axis, index, columns, level, inplace, errors)\u001B[0m\n\u001B[0;32m   5196\u001B[0m \u001B[38;5;28;01mdef\u001B[39;00m \u001B[38;5;21mdrop\u001B[39m(\n\u001B[0;32m   5197\u001B[0m     \u001B[38;5;28mself\u001B[39m,\n\u001B[0;32m   5198\u001B[0m     labels: IndexLabel \u001B[38;5;241m|\u001B[39m \u001B[38;5;28;01mNone\u001B[39;00m \u001B[38;5;241m=\u001B[39m \u001B[38;5;28;01mNone\u001B[39;00m,\n\u001B[1;32m   (...)\u001B[0m\n\u001B[0;32m   5205\u001B[0m     errors: IgnoreRaise \u001B[38;5;241m=\u001B[39m \u001B[38;5;124m\"\u001B[39m\u001B[38;5;124mraise\u001B[39m\u001B[38;5;124m\"\u001B[39m,\n\u001B[0;32m   5206\u001B[0m ) \u001B[38;5;241m-\u001B[39m\u001B[38;5;241m>\u001B[39m DataFrame \u001B[38;5;241m|\u001B[39m \u001B[38;5;28;01mNone\u001B[39;00m:\n\u001B[0;32m   5207\u001B[0m \u001B[38;5;250m    \u001B[39m\u001B[38;5;124;03m\"\"\"\u001B[39;00m\n\u001B[0;32m   5208\u001B[0m \u001B[38;5;124;03m    Drop specified labels from rows or columns.\u001B[39;00m\n\u001B[0;32m   5209\u001B[0m \n\u001B[1;32m   (...)\u001B[0m\n\u001B[0;32m   5342\u001B[0m \u001B[38;5;124;03m            weight  1.0     0.8\u001B[39;00m\n\u001B[0;32m   5343\u001B[0m \u001B[38;5;124;03m    \"\"\"\u001B[39;00m\n\u001B[1;32m-> 5344\u001B[0m     \u001B[38;5;28;01mreturn\u001B[39;00m \u001B[38;5;28;43msuper\u001B[39;49m\u001B[43m(\u001B[49m\u001B[43m)\u001B[49m\u001B[38;5;241;43m.\u001B[39;49m\u001B[43mdrop\u001B[49m\u001B[43m(\u001B[49m\n\u001B[0;32m   5345\u001B[0m \u001B[43m        \u001B[49m\u001B[43mlabels\u001B[49m\u001B[38;5;241;43m=\u001B[39;49m\u001B[43mlabels\u001B[49m\u001B[43m,\u001B[49m\n\u001B[0;32m   5346\u001B[0m \u001B[43m        \u001B[49m\u001B[43maxis\u001B[49m\u001B[38;5;241;43m=\u001B[39;49m\u001B[43maxis\u001B[49m\u001B[43m,\u001B[49m\n\u001B[0;32m   5347\u001B[0m \u001B[43m        \u001B[49m\u001B[43mindex\u001B[49m\u001B[38;5;241;43m=\u001B[39;49m\u001B[43mindex\u001B[49m\u001B[43m,\u001B[49m\n\u001B[0;32m   5348\u001B[0m \u001B[43m        \u001B[49m\u001B[43mcolumns\u001B[49m\u001B[38;5;241;43m=\u001B[39;49m\u001B[43mcolumns\u001B[49m\u001B[43m,\u001B[49m\n\u001B[0;32m   5349\u001B[0m \u001B[43m        \u001B[49m\u001B[43mlevel\u001B[49m\u001B[38;5;241;43m=\u001B[39;49m\u001B[43mlevel\u001B[49m\u001B[43m,\u001B[49m\n\u001B[0;32m   5350\u001B[0m \u001B[43m        \u001B[49m\u001B[43minplace\u001B[49m\u001B[38;5;241;43m=\u001B[39;49m\u001B[43minplace\u001B[49m\u001B[43m,\u001B[49m\n\u001B[0;32m   5351\u001B[0m \u001B[43m        \u001B[49m\u001B[43merrors\u001B[49m\u001B[38;5;241;43m=\u001B[39;49m\u001B[43merrors\u001B[49m\u001B[43m,\u001B[49m\n\u001B[0;32m   5352\u001B[0m \u001B[43m    \u001B[49m\u001B[43m)\u001B[49m\n",
      "File \u001B[1;32mC:\\ProgramData\\anaconda3\\envs\\kaggle\\lib\\site-packages\\pandas\\core\\generic.py:4711\u001B[0m, in \u001B[0;36mNDFrame.drop\u001B[1;34m(self, labels, axis, index, columns, level, inplace, errors)\u001B[0m\n\u001B[0;32m   4709\u001B[0m \u001B[38;5;28;01mfor\u001B[39;00m axis, labels \u001B[38;5;129;01min\u001B[39;00m axes\u001B[38;5;241m.\u001B[39mitems():\n\u001B[0;32m   4710\u001B[0m     \u001B[38;5;28;01mif\u001B[39;00m labels \u001B[38;5;129;01mis\u001B[39;00m \u001B[38;5;129;01mnot\u001B[39;00m \u001B[38;5;28;01mNone\u001B[39;00m:\n\u001B[1;32m-> 4711\u001B[0m         obj \u001B[38;5;241m=\u001B[39m \u001B[43mobj\u001B[49m\u001B[38;5;241;43m.\u001B[39;49m\u001B[43m_drop_axis\u001B[49m\u001B[43m(\u001B[49m\u001B[43mlabels\u001B[49m\u001B[43m,\u001B[49m\u001B[43m \u001B[49m\u001B[43maxis\u001B[49m\u001B[43m,\u001B[49m\u001B[43m \u001B[49m\u001B[43mlevel\u001B[49m\u001B[38;5;241;43m=\u001B[39;49m\u001B[43mlevel\u001B[49m\u001B[43m,\u001B[49m\u001B[43m \u001B[49m\u001B[43merrors\u001B[49m\u001B[38;5;241;43m=\u001B[39;49m\u001B[43merrors\u001B[49m\u001B[43m)\u001B[49m\n\u001B[0;32m   4713\u001B[0m \u001B[38;5;28;01mif\u001B[39;00m inplace:\n\u001B[0;32m   4714\u001B[0m     \u001B[38;5;28mself\u001B[39m\u001B[38;5;241m.\u001B[39m_update_inplace(obj)\n",
      "File \u001B[1;32mC:\\ProgramData\\anaconda3\\envs\\kaggle\\lib\\site-packages\\pandas\\core\\generic.py:4753\u001B[0m, in \u001B[0;36mNDFrame._drop_axis\u001B[1;34m(self, labels, axis, level, errors, only_slice)\u001B[0m\n\u001B[0;32m   4751\u001B[0m         new_axis \u001B[38;5;241m=\u001B[39m axis\u001B[38;5;241m.\u001B[39mdrop(labels, level\u001B[38;5;241m=\u001B[39mlevel, errors\u001B[38;5;241m=\u001B[39merrors)\n\u001B[0;32m   4752\u001B[0m     \u001B[38;5;28;01melse\u001B[39;00m:\n\u001B[1;32m-> 4753\u001B[0m         new_axis \u001B[38;5;241m=\u001B[39m \u001B[43maxis\u001B[49m\u001B[38;5;241;43m.\u001B[39;49m\u001B[43mdrop\u001B[49m\u001B[43m(\u001B[49m\u001B[43mlabels\u001B[49m\u001B[43m,\u001B[49m\u001B[43m \u001B[49m\u001B[43merrors\u001B[49m\u001B[38;5;241;43m=\u001B[39;49m\u001B[43merrors\u001B[49m\u001B[43m)\u001B[49m\n\u001B[0;32m   4754\u001B[0m     indexer \u001B[38;5;241m=\u001B[39m axis\u001B[38;5;241m.\u001B[39mget_indexer(new_axis)\n\u001B[0;32m   4756\u001B[0m \u001B[38;5;66;03m# Case for non-unique axis\u001B[39;00m\n\u001B[0;32m   4757\u001B[0m \u001B[38;5;28;01melse\u001B[39;00m:\n",
      "File \u001B[1;32mC:\\ProgramData\\anaconda3\\envs\\kaggle\\lib\\site-packages\\pandas\\core\\indexes\\base.py:7000\u001B[0m, in \u001B[0;36mIndex.drop\u001B[1;34m(self, labels, errors)\u001B[0m\n\u001B[0;32m   6998\u001B[0m \u001B[38;5;28;01mif\u001B[39;00m mask\u001B[38;5;241m.\u001B[39many():\n\u001B[0;32m   6999\u001B[0m     \u001B[38;5;28;01mif\u001B[39;00m errors \u001B[38;5;241m!=\u001B[39m \u001B[38;5;124m\"\u001B[39m\u001B[38;5;124mignore\u001B[39m\u001B[38;5;124m\"\u001B[39m:\n\u001B[1;32m-> 7000\u001B[0m         \u001B[38;5;28;01mraise\u001B[39;00m \u001B[38;5;167;01mKeyError\u001B[39;00m(\u001B[38;5;124mf\u001B[39m\u001B[38;5;124m\"\u001B[39m\u001B[38;5;132;01m{\u001B[39;00mlabels[mask]\u001B[38;5;241m.\u001B[39mtolist()\u001B[38;5;132;01m}\u001B[39;00m\u001B[38;5;124m not found in axis\u001B[39m\u001B[38;5;124m\"\u001B[39m)\n\u001B[0;32m   7001\u001B[0m     indexer \u001B[38;5;241m=\u001B[39m indexer[\u001B[38;5;241m~\u001B[39mmask]\n\u001B[0;32m   7002\u001B[0m \u001B[38;5;28;01mreturn\u001B[39;00m \u001B[38;5;28mself\u001B[39m\u001B[38;5;241m.\u001B[39mdelete(indexer)\n",
      "\u001B[1;31mKeyError\u001B[0m: \"['num_group1'] not found in axis\""
     ]
    }
   ],
   "source": [
    "# We need to use aggregation functions in tables with depth > 1, so tables that contain num_group1 column or \n",
    "# also num_group2 column.\n",
    "train_person_1_feats_1 = train_person_1.groupby(\"case_id\").agg(\n",
    "    {\"mainoccupationinc_384A\": \"max\",\n",
    "     \"incometype_1044T\": lambda x: (x == \"SELFEMPLOYED\").max()}\n",
    ").rename(columns={\"mainoccupationinc_384A\": \"mainoccupationinc_384A_max\",\n",
    "                  \"incometype_1044T\": \"mainoccupationinc_384A_any_selfemployed\"})\n",
    "\n",
    "# Here num_group1=0 has special meaning, it is the person who applied for the loan.\n",
    "train_person_1_feats_2 = train_person_1[train_person_1[\"num_group1\"] == 0][[\"case_id\", \"housetype_905L\"]] \\\n",
    "    .rename(columns={\"housetype_905L\": \"person_housetype\"}).drop(columns=[\"num_group1\"])\n",
    "\n",
    "# Here we have num_goup1 and num_group2, so we need to aggregate again.\n",
    "train_credit_bureau_b_2_feats = train_credit_bureau_b_2.groupby(\"case_id\").agg(\n",
    "    {\"pmts_pmtsoverdue_635A\": \"max\",\n",
    "     \"pmts_dpdvalue_108P\": lambda x: (x > 31).max()}\n",
    ").rename(columns={\"pmts_pmtsoverdue_635A\": \"pmts_pmtsoverdue_635A_max\",\n",
    "                  \"pmts_dpdvalue_108P\": \"pmts_dpdvalue_108P_over31\"})\n",
    "\n",
    "# We will process in this examples only A-type and M-type columns, so we need to select them.\n",
    "selected_static_cols = [col for col in train_static.columns if col[-1] in (\"A\", \"M\")]\n",
    "print(selected_static_cols)\n",
    "\n",
    "selected_static_cb_cols = [col for col in train_static_cb.columns if col[-1] in (\"A\", \"M\")]\n",
    "print(selected_static_cb_cols)\n",
    "\n",
    "# Join all tables together.\n",
    "data = train_basetable.merge(train_static[[\"case_id\"] + selected_static_cols], how=\"left\", on=\"case_id\") \\\n",
    "    .merge(train_static_cb[[\"case_id\"] + selected_static_cb_cols], how=\"left\", on=\"case_id\") \\\n",
    "    .merge(train_person_1_feats_1, how=\"left\", on=\"case_id\") \\\n",
    "    .merge(train_person_1_feats_2, how=\"left\", on=\"case_id\") \\\n",
    "    .merge(train_credit_bureau_b_2_feats, how=\"left\", on=\"case_id\")\n"
   ],
   "metadata": {
    "collapsed": false,
    "ExecuteTime": {
     "end_time": "2024-03-13T21:52:39.311683Z",
     "start_time": "2024-03-13T21:49:26.103771Z"
    }
   },
   "id": "19fb97fe3d84eea1",
   "execution_count": 17
  },
  {
   "cell_type": "code",
   "outputs": [
    {
     "data": {
      "text/plain": "         case_id  birth_259D birthdate_87D  childnum_185L  \\\n0              0  1986-07-01           NaN            NaN   \n1              0         NaN           NaN            NaN   \n2              0         NaN           NaN            NaN   \n3              0         NaN           NaN            NaN   \n4              1  1957-08-01           NaN            NaN   \n...          ...         ...           ...            ...   \n2973986  2703451         NaN           NaN            NaN   \n2973987  2703452  1977-08-01           NaN            NaN   \n2973988  2703453  1950-02-01           NaN            NaN   \n2973989  2703453         NaN           NaN            NaN   \n2973990  2703454  1948-04-01           NaN            NaN   \n\n        contaddr_district_15M contaddr_matchlist_1032L  \\\n0                   P88_18_84                    False   \n1                    a55475b1                      NaN   \n2                    a55475b1                      NaN   \n3                    a55475b1                      NaN   \n4                  P103_93_94                    False   \n...                       ...                      ...   \n2973986              a55475b1                      NaN   \n2973987           P133_44_167                    False   \n2973988             P123_6_84                    False   \n2973989              a55475b1                      NaN   \n2973990            P48_127_19                    False   \n\n        contaddr_smempladdr_334L contaddr_zipcode_807M education_927M  \\\n0                          False          P167_100_165     P97_36_170   \n1                            NaN              a55475b1       a55475b1   \n2                            NaN              a55475b1       a55475b1   \n3                            NaN              a55475b1       a55475b1   \n4                          False           P176_37_166     P97_36_170   \n...                          ...                   ...            ...   \n2973986                      NaN              a55475b1       a55475b1   \n2973987                    False            P59_150_74       a55475b1   \n2973988                    False           P46_103_143       a55475b1   \n2973989                      NaN              a55475b1       a55475b1   \n2973990                    False           P78_144_175       a55475b1   \n\n        empl_employedfrom_271D  ... registaddr_district_1083M  \\\n0                   2017-09-15  ...                 P88_18_84   \n1                          NaN  ...                  a55475b1   \n2                          NaN  ...                  a55475b1   \n3                          NaN  ...                  a55475b1   \n4                   2008-10-29  ...                P103_93_94   \n...                        ...  ...                       ...   \n2973986                    NaN  ...                  a55475b1   \n2973987                    NaN  ...                P19_11_176   \n2973988                    NaN  ...                 P123_6_84   \n2973989                    NaN  ...                  a55475b1   \n2973990                    NaN  ...                P48_127_19   \n\n        registaddr_zipcode_184M relationshiptoclient_415T  \\\n0                  P167_100_165                       NaN   \n1                      a55475b1                    SPOUSE   \n2                      a55475b1                 COLLEAGUE   \n3                      a55475b1                       NaN   \n4                   P176_37_166                       NaN   \n...                         ...                       ...   \n2973986                a55475b1                       NaN   \n2973987               P11_15_81                       NaN   \n2973988             P46_103_143                       NaN   \n2973989                a55475b1                       NaN   \n2973990             P78_144_175                       NaN   \n\n        relationshiptoclient_642T remitter_829L role_1084L role_993L  \\\n0                             NaN           NaN         CL       NaN   \n1                             NaN         False         EM       NaN   \n2                          SPOUSE         False         PE       NaN   \n3                       COLLEAGUE           NaN         PE       NaN   \n4                             NaN           NaN         CL       NaN   \n...                           ...           ...        ...       ...   \n2973986                       NaN           NaN         CL       NaN   \n2973987                       NaN           NaN         CL       NaN   \n2973988                       NaN           NaN         CL       NaN   \n2973989                       NaN           NaN         CL       NaN   \n2973990                       NaN           NaN         CL       NaN   \n\n        safeguarantyflag_411L sex_738L        type_25L  \n0                        True        F  PRIMARY_MOBILE  \n1                         NaN      NaN           PHONE  \n2                         NaN      NaN           PHONE  \n3                         NaN      NaN           PHONE  \n4                        True        M  PRIMARY_MOBILE  \n...                       ...      ...             ...  \n2973986                   NaN      NaN      HOME_PHONE  \n2973987                 False        M  PRIMARY_MOBILE  \n2973988                 False        F  PRIMARY_MOBILE  \n2973989                   NaN      NaN      HOME_PHONE  \n2973990                  True        F  PRIMARY_MOBILE  \n\n[2973991 rows x 37 columns]",
      "text/html": "<div>\n<style scoped>\n    .dataframe tbody tr th:only-of-type {\n        vertical-align: middle;\n    }\n\n    .dataframe tbody tr th {\n        vertical-align: top;\n    }\n\n    .dataframe thead th {\n        text-align: right;\n    }\n</style>\n<table border=\"1\" class=\"dataframe\">\n  <thead>\n    <tr style=\"text-align: right;\">\n      <th></th>\n      <th>case_id</th>\n      <th>birth_259D</th>\n      <th>birthdate_87D</th>\n      <th>childnum_185L</th>\n      <th>contaddr_district_15M</th>\n      <th>contaddr_matchlist_1032L</th>\n      <th>contaddr_smempladdr_334L</th>\n      <th>contaddr_zipcode_807M</th>\n      <th>education_927M</th>\n      <th>empl_employedfrom_271D</th>\n      <th>...</th>\n      <th>registaddr_district_1083M</th>\n      <th>registaddr_zipcode_184M</th>\n      <th>relationshiptoclient_415T</th>\n      <th>relationshiptoclient_642T</th>\n      <th>remitter_829L</th>\n      <th>role_1084L</th>\n      <th>role_993L</th>\n      <th>safeguarantyflag_411L</th>\n      <th>sex_738L</th>\n      <th>type_25L</th>\n    </tr>\n  </thead>\n  <tbody>\n    <tr>\n      <th>0</th>\n      <td>0</td>\n      <td>1986-07-01</td>\n      <td>NaN</td>\n      <td>NaN</td>\n      <td>P88_18_84</td>\n      <td>False</td>\n      <td>False</td>\n      <td>P167_100_165</td>\n      <td>P97_36_170</td>\n      <td>2017-09-15</td>\n      <td>...</td>\n      <td>P88_18_84</td>\n      <td>P167_100_165</td>\n      <td>NaN</td>\n      <td>NaN</td>\n      <td>NaN</td>\n      <td>CL</td>\n      <td>NaN</td>\n      <td>True</td>\n      <td>F</td>\n      <td>PRIMARY_MOBILE</td>\n    </tr>\n    <tr>\n      <th>1</th>\n      <td>0</td>\n      <td>NaN</td>\n      <td>NaN</td>\n      <td>NaN</td>\n      <td>a55475b1</td>\n      <td>NaN</td>\n      <td>NaN</td>\n      <td>a55475b1</td>\n      <td>a55475b1</td>\n      <td>NaN</td>\n      <td>...</td>\n      <td>a55475b1</td>\n      <td>a55475b1</td>\n      <td>SPOUSE</td>\n      <td>NaN</td>\n      <td>False</td>\n      <td>EM</td>\n      <td>NaN</td>\n      <td>NaN</td>\n      <td>NaN</td>\n      <td>PHONE</td>\n    </tr>\n    <tr>\n      <th>2</th>\n      <td>0</td>\n      <td>NaN</td>\n      <td>NaN</td>\n      <td>NaN</td>\n      <td>a55475b1</td>\n      <td>NaN</td>\n      <td>NaN</td>\n      <td>a55475b1</td>\n      <td>a55475b1</td>\n      <td>NaN</td>\n      <td>...</td>\n      <td>a55475b1</td>\n      <td>a55475b1</td>\n      <td>COLLEAGUE</td>\n      <td>SPOUSE</td>\n      <td>False</td>\n      <td>PE</td>\n      <td>NaN</td>\n      <td>NaN</td>\n      <td>NaN</td>\n      <td>PHONE</td>\n    </tr>\n    <tr>\n      <th>3</th>\n      <td>0</td>\n      <td>NaN</td>\n      <td>NaN</td>\n      <td>NaN</td>\n      <td>a55475b1</td>\n      <td>NaN</td>\n      <td>NaN</td>\n      <td>a55475b1</td>\n      <td>a55475b1</td>\n      <td>NaN</td>\n      <td>...</td>\n      <td>a55475b1</td>\n      <td>a55475b1</td>\n      <td>NaN</td>\n      <td>COLLEAGUE</td>\n      <td>NaN</td>\n      <td>PE</td>\n      <td>NaN</td>\n      <td>NaN</td>\n      <td>NaN</td>\n      <td>PHONE</td>\n    </tr>\n    <tr>\n      <th>4</th>\n      <td>1</td>\n      <td>1957-08-01</td>\n      <td>NaN</td>\n      <td>NaN</td>\n      <td>P103_93_94</td>\n      <td>False</td>\n      <td>False</td>\n      <td>P176_37_166</td>\n      <td>P97_36_170</td>\n      <td>2008-10-29</td>\n      <td>...</td>\n      <td>P103_93_94</td>\n      <td>P176_37_166</td>\n      <td>NaN</td>\n      <td>NaN</td>\n      <td>NaN</td>\n      <td>CL</td>\n      <td>NaN</td>\n      <td>True</td>\n      <td>M</td>\n      <td>PRIMARY_MOBILE</td>\n    </tr>\n    <tr>\n      <th>...</th>\n      <td>...</td>\n      <td>...</td>\n      <td>...</td>\n      <td>...</td>\n      <td>...</td>\n      <td>...</td>\n      <td>...</td>\n      <td>...</td>\n      <td>...</td>\n      <td>...</td>\n      <td>...</td>\n      <td>...</td>\n      <td>...</td>\n      <td>...</td>\n      <td>...</td>\n      <td>...</td>\n      <td>...</td>\n      <td>...</td>\n      <td>...</td>\n      <td>...</td>\n      <td>...</td>\n    </tr>\n    <tr>\n      <th>2973986</th>\n      <td>2703451</td>\n      <td>NaN</td>\n      <td>NaN</td>\n      <td>NaN</td>\n      <td>a55475b1</td>\n      <td>NaN</td>\n      <td>NaN</td>\n      <td>a55475b1</td>\n      <td>a55475b1</td>\n      <td>NaN</td>\n      <td>...</td>\n      <td>a55475b1</td>\n      <td>a55475b1</td>\n      <td>NaN</td>\n      <td>NaN</td>\n      <td>NaN</td>\n      <td>CL</td>\n      <td>NaN</td>\n      <td>NaN</td>\n      <td>NaN</td>\n      <td>HOME_PHONE</td>\n    </tr>\n    <tr>\n      <th>2973987</th>\n      <td>2703452</td>\n      <td>1977-08-01</td>\n      <td>NaN</td>\n      <td>NaN</td>\n      <td>P133_44_167</td>\n      <td>False</td>\n      <td>False</td>\n      <td>P59_150_74</td>\n      <td>a55475b1</td>\n      <td>NaN</td>\n      <td>...</td>\n      <td>P19_11_176</td>\n      <td>P11_15_81</td>\n      <td>NaN</td>\n      <td>NaN</td>\n      <td>NaN</td>\n      <td>CL</td>\n      <td>NaN</td>\n      <td>False</td>\n      <td>M</td>\n      <td>PRIMARY_MOBILE</td>\n    </tr>\n    <tr>\n      <th>2973988</th>\n      <td>2703453</td>\n      <td>1950-02-01</td>\n      <td>NaN</td>\n      <td>NaN</td>\n      <td>P123_6_84</td>\n      <td>False</td>\n      <td>False</td>\n      <td>P46_103_143</td>\n      <td>a55475b1</td>\n      <td>NaN</td>\n      <td>...</td>\n      <td>P123_6_84</td>\n      <td>P46_103_143</td>\n      <td>NaN</td>\n      <td>NaN</td>\n      <td>NaN</td>\n      <td>CL</td>\n      <td>NaN</td>\n      <td>False</td>\n      <td>F</td>\n      <td>PRIMARY_MOBILE</td>\n    </tr>\n    <tr>\n      <th>2973989</th>\n      <td>2703453</td>\n      <td>NaN</td>\n      <td>NaN</td>\n      <td>NaN</td>\n      <td>a55475b1</td>\n      <td>NaN</td>\n      <td>NaN</td>\n      <td>a55475b1</td>\n      <td>a55475b1</td>\n      <td>NaN</td>\n      <td>...</td>\n      <td>a55475b1</td>\n      <td>a55475b1</td>\n      <td>NaN</td>\n      <td>NaN</td>\n      <td>NaN</td>\n      <td>CL</td>\n      <td>NaN</td>\n      <td>NaN</td>\n      <td>NaN</td>\n      <td>HOME_PHONE</td>\n    </tr>\n    <tr>\n      <th>2973990</th>\n      <td>2703454</td>\n      <td>1948-04-01</td>\n      <td>NaN</td>\n      <td>NaN</td>\n      <td>P48_127_19</td>\n      <td>False</td>\n      <td>False</td>\n      <td>P78_144_175</td>\n      <td>a55475b1</td>\n      <td>NaN</td>\n      <td>...</td>\n      <td>P48_127_19</td>\n      <td>P78_144_175</td>\n      <td>NaN</td>\n      <td>NaN</td>\n      <td>NaN</td>\n      <td>CL</td>\n      <td>NaN</td>\n      <td>True</td>\n      <td>F</td>\n      <td>PRIMARY_MOBILE</td>\n    </tr>\n  </tbody>\n</table>\n<p>2973991 rows × 37 columns</p>\n</div>"
     },
     "execution_count": 18,
     "metadata": {},
     "output_type": "execute_result"
    }
   ],
   "source": [
    "train_person_1"
   ],
   "metadata": {
    "collapsed": false,
    "ExecuteTime": {
     "end_time": "2024-03-13T21:54:41.885999Z",
     "start_time": "2024-03-13T21:54:41.685001Z"
    }
   },
   "id": "743cbea5c10da1ea",
   "execution_count": 18
  },
  {
   "cell_type": "code",
   "outputs": [
    {
     "ename": "NameError",
     "evalue": "name 'train_person_1_feats_1' is not defined",
     "output_type": "error",
     "traceback": [
      "\u001B[1;31m---------------------------------------------------------------------------\u001B[0m",
      "\u001B[1;31mNameError\u001B[0m                                 Traceback (most recent call last)",
      "Cell \u001B[1;32mIn[9], line 1\u001B[0m\n\u001B[1;32m----> 1\u001B[0m \u001B[43mtrain_person_1_feats_1\u001B[49m\n",
      "\u001B[1;31mNameError\u001B[0m: name 'train_person_1_feats_1' is not defined"
     ]
    }
   ],
   "source": [
    "train_person_1_feats_1"
   ],
   "metadata": {
    "collapsed": false,
    "ExecuteTime": {
     "end_time": "2024-03-27T20:40:17.785156Z",
     "start_time": "2024-03-27T20:40:16.909650Z"
    }
   },
   "id": "a2c9c30cab52a6d1",
   "execution_count": 9
  }
 ],
 "metadata": {
  "kernelspec": {
   "display_name": "Python 3",
   "language": "python",
   "name": "python3"
  },
  "language_info": {
   "codemirror_mode": {
    "name": "ipython",
    "version": 2
   },
   "file_extension": ".py",
   "mimetype": "text/x-python",
   "name": "python",
   "nbconvert_exporter": "python",
   "pygments_lexer": "ipython2",
   "version": "2.7.6"
  }
 },
 "nbformat": 4,
 "nbformat_minor": 5
}
