{
 "cells": [
  {
   "cell_type": "code",
   "execution_count": 21,
   "id": "initial_id",
   "metadata": {
    "collapsed": true,
    "ExecuteTime": {
     "end_time": "2024-03-07T09:26:59.371473Z",
     "start_time": "2024-03-07T09:26:58.631210Z"
    }
   },
   "outputs": [],
   "source": [
    "import pandas as pd\n",
    "import numpy as np\n",
    "import os\n",
    "import matplotlib.pyplot as plt\n"
   ]
  },
  {
   "cell_type": "markdown",
   "source": [
    "### About dataset\n",
    "\n",
    "This is Kaggle dataset taken from Home Credit - Credit Risk Model Stability competition(https://www.kaggle.com/competitions/home-credit-credit-risk-model-stability).\n",
    "\n",
    "Overview\n",
    "The goal of this competition is to predict which clients are more likely to default on their loans. The evaluation will favor solutions that are stable over time.\n",
    "\n",
    "Your participation may offer consumer finance providers a more reliable and longer-lasting way to assess a potential client’s default risk."
   ],
   "metadata": {
    "collapsed": false
   },
   "id": "6e6ec299918afb29"
  },
  {
   "cell_type": "code",
   "outputs": [
    {
     "data": {
      "text/plain": "'D:/data/kaggle_comp1'"
     },
     "execution_count": 12,
     "metadata": {},
     "output_type": "execute_result"
    }
   ],
   "source": [
    "# Открываем файл для чтения с использованием контекстного менеджера\n",
    "with open(\"data_path.txt\", \"r\") as file:\n",
    "    # Читаем содержимое файла\n",
    "    data_path = file.read()\n",
    "data_path"
   ],
   "metadata": {
    "collapsed": false,
    "ExecuteTime": {
     "end_time": "2024-03-07T09:04:43.971850Z",
     "start_time": "2024-03-07T09:04:43.958599Z"
    }
   },
   "id": "47404e5f01d56f61",
   "execution_count": 12
  },
  {
   "cell_type": "code",
   "outputs": [
    {
     "data": {
      "text/plain": "                     Variable  \\\n0              actualdpd_943P   \n1     actualdpdtolerance_344P   \n2        addres_district_368M   \n3            addres_role_871L   \n4             addres_zip_823M   \n..                        ...   \n460  totinstallast1m_4525188A   \n461        twobodfilling_608L   \n462                  type_25L   \n463            typesuite_864L   \n464           validfrom_1069D   \n\n                                           Description  \n0    Days Past Due (DPD) of previous contract (actu...  \n1                        DPD of client with tolerance.  \n2                    District of the person's address.  \n3                            Role of person's address.  \n4                             Zip code of the address.  \n..                                                 ...  \n460  Total amount of monthly instalments paid in th...  \n461                       Type of application process.  \n462                          Contact type of a person.  \n463  Persons accompanying the client during the loa...  \n464      Date since the client has an active campaign.  \n\n[465 rows x 2 columns]",
      "text/html": "<div>\n<style scoped>\n    .dataframe tbody tr th:only-of-type {\n        vertical-align: middle;\n    }\n\n    .dataframe tbody tr th {\n        vertical-align: top;\n    }\n\n    .dataframe thead th {\n        text-align: right;\n    }\n</style>\n<table border=\"1\" class=\"dataframe\">\n  <thead>\n    <tr style=\"text-align: right;\">\n      <th></th>\n      <th>Variable</th>\n      <th>Description</th>\n    </tr>\n  </thead>\n  <tbody>\n    <tr>\n      <th>0</th>\n      <td>actualdpd_943P</td>\n      <td>Days Past Due (DPD) of previous contract (actu...</td>\n    </tr>\n    <tr>\n      <th>1</th>\n      <td>actualdpdtolerance_344P</td>\n      <td>DPD of client with tolerance.</td>\n    </tr>\n    <tr>\n      <th>2</th>\n      <td>addres_district_368M</td>\n      <td>District of the person's address.</td>\n    </tr>\n    <tr>\n      <th>3</th>\n      <td>addres_role_871L</td>\n      <td>Role of person's address.</td>\n    </tr>\n    <tr>\n      <th>4</th>\n      <td>addres_zip_823M</td>\n      <td>Zip code of the address.</td>\n    </tr>\n    <tr>\n      <th>...</th>\n      <td>...</td>\n      <td>...</td>\n    </tr>\n    <tr>\n      <th>460</th>\n      <td>totinstallast1m_4525188A</td>\n      <td>Total amount of monthly instalments paid in th...</td>\n    </tr>\n    <tr>\n      <th>461</th>\n      <td>twobodfilling_608L</td>\n      <td>Type of application process.</td>\n    </tr>\n    <tr>\n      <th>462</th>\n      <td>type_25L</td>\n      <td>Contact type of a person.</td>\n    </tr>\n    <tr>\n      <th>463</th>\n      <td>typesuite_864L</td>\n      <td>Persons accompanying the client during the loa...</td>\n    </tr>\n    <tr>\n      <th>464</th>\n      <td>validfrom_1069D</td>\n      <td>Date since the client has an active campaign.</td>\n    </tr>\n  </tbody>\n</table>\n<p>465 rows × 2 columns</p>\n</div>"
     },
     "execution_count": 10,
     "metadata": {},
     "output_type": "execute_result"
    }
   ],
   "source": [
    "file_name = \"feature_definitions.csv\"\n",
    "\n",
    "file_path = os.path.join(data_path, file_name)\n",
    "\n",
    "# Прочитайте CSV файл в DataFrame с помощью pandas\n",
    "df = pd.read_csv(file_path)\n",
    "\n",
    "df"
   ],
   "metadata": {
    "collapsed": false,
    "ExecuteTime": {
     "end_time": "2024-03-07T08:45:33.762380Z",
     "start_time": "2024-03-07T08:45:33.743382Z"
    }
   },
   "id": "d1b3794a560b77e8",
   "execution_count": 10
  },
  {
   "cell_type": "code",
   "outputs": [
    {
     "data": {
      "text/plain": "         case_id  actualdpd_943P  annuity_853A approvaldate_319D  \\\n0              2             0.0         640.2               NaN   \n1              2             0.0        1682.4               NaN   \n2              3             0.0        6140.0               NaN   \n3              4             0.0        2556.6               NaN   \n4              5             0.0           NaN               NaN   \n...          ...             ...           ...               ...   \n3887679  2651092             0.0           0.0               NaN   \n3887680  2651092             0.0        4366.0        2017-11-09   \n3887681  2651092             0.0        2632.2        2015-12-11   \n3887682  2651092             0.0           NaN        2014-02-15   \n3887683  2651092             0.0        3119.2        2012-12-12   \n\n         byoccupationinc_3656910L cancelreason_3545846M  childnum_21L  \\\n0                             NaN              a55475b1           0.0   \n1                             NaN              a55475b1           0.0   \n2                             NaN           P94_109_143           NaN   \n3                             NaN             P24_27_36           NaN   \n4                             NaN           P85_114_140           NaN   \n...                           ...                   ...           ...   \n3887679                       NaN           P94_109_143           NaN   \n3887680                       NaN              a55475b1           NaN   \n3887681                       1.0              a55475b1           1.0   \n3887682                   60000.0              a55475b1           1.0   \n3887683                   25000.0              a55475b1           1.0   \n\n        creationdate_885D  credacc_actualbalance_314A  credacc_credlmt_575A  \\\n0              2013-04-03                         NaN                   0.0   \n1              2013-04-03                         NaN                   0.0   \n2              2019-01-07                         NaN                   0.0   \n3              2019-01-08                         NaN                   0.0   \n4              2019-01-16                         NaN                   NaN   \n...                   ...                         ...                   ...   \n3887679        2018-05-04                         NaN              100000.0   \n3887680        2017-11-09                         NaN                   0.0   \n3887681        2015-12-11                         NaN                   0.0   \n3887682        2014-02-15                         NaN               53300.0   \n3887683        2012-12-12                         NaN                   0.0   \n\n         ...  num_group1  outstandingdebt_522A pmtnum_8L  postype_4733339M  \\\n0        ...           0                   NaN      24.0          a55475b1   \n1        ...           1                   NaN      12.0          a55475b1   \n2        ...           0                   NaN      12.0          a55475b1   \n3        ...           0                   NaN      24.0          a55475b1   \n4        ...           0                   NaN       NaN          a55475b1   \n...      ...         ...                   ...       ...               ...   \n3887679  ...           3                   NaN       NaN        P46_145_78   \n3887680  ...           4                   0.0       5.0       P60_146_156   \n3887681  ...           5                   0.0      14.0        P46_145_78   \n3887682  ...           6                   0.0       NaN        P46_145_78   \n3887683  ...           7                   0.0      12.0       P149_40_170   \n\n         profession_152M rejectreason_755M  rejectreasonclient_4145042M  \\\n0               a55475b1          a55475b1                     a55475b1   \n1               a55475b1          a55475b1                     a55475b1   \n2               a55475b1       P94_109_143                     a55475b1   \n3               a55475b1          a55475b1                     a55475b1   \n4               a55475b1          a55475b1                     a55475b1   \n...                  ...               ...                          ...   \n3887679         a55475b1        P99_56_166                  P94_109_143   \n3887680         a55475b1          a55475b1                     a55475b1   \n3887681         a55475b1          a55475b1                     a55475b1   \n3887682         a55475b1          a55475b1                     a55475b1   \n3887683         a55475b1          a55475b1                     a55475b1   \n\n        revolvingaccount_394A status_219L  tenor_203L  \n0                         NaN           D        24.0  \n1                         NaN           D        12.0  \n2                         NaN           D        12.0  \n3                         NaN           T        24.0  \n4                         NaN           T         NaN  \n...                       ...         ...         ...  \n3887679                   NaN           D         NaN  \n3887680                   NaN           K         5.0  \n3887681                   NaN           K        14.0  \n3887682           680531000.0           K         NaN  \n3887683                   NaN           K        12.0  \n\n[3887684 rows x 41 columns]",
      "text/html": "<div>\n<style scoped>\n    .dataframe tbody tr th:only-of-type {\n        vertical-align: middle;\n    }\n\n    .dataframe tbody tr th {\n        vertical-align: top;\n    }\n\n    .dataframe thead th {\n        text-align: right;\n    }\n</style>\n<table border=\"1\" class=\"dataframe\">\n  <thead>\n    <tr style=\"text-align: right;\">\n      <th></th>\n      <th>case_id</th>\n      <th>actualdpd_943P</th>\n      <th>annuity_853A</th>\n      <th>approvaldate_319D</th>\n      <th>byoccupationinc_3656910L</th>\n      <th>cancelreason_3545846M</th>\n      <th>childnum_21L</th>\n      <th>creationdate_885D</th>\n      <th>credacc_actualbalance_314A</th>\n      <th>credacc_credlmt_575A</th>\n      <th>...</th>\n      <th>num_group1</th>\n      <th>outstandingdebt_522A</th>\n      <th>pmtnum_8L</th>\n      <th>postype_4733339M</th>\n      <th>profession_152M</th>\n      <th>rejectreason_755M</th>\n      <th>rejectreasonclient_4145042M</th>\n      <th>revolvingaccount_394A</th>\n      <th>status_219L</th>\n      <th>tenor_203L</th>\n    </tr>\n  </thead>\n  <tbody>\n    <tr>\n      <th>0</th>\n      <td>2</td>\n      <td>0.0</td>\n      <td>640.2</td>\n      <td>NaN</td>\n      <td>NaN</td>\n      <td>a55475b1</td>\n      <td>0.0</td>\n      <td>2013-04-03</td>\n      <td>NaN</td>\n      <td>0.0</td>\n      <td>...</td>\n      <td>0</td>\n      <td>NaN</td>\n      <td>24.0</td>\n      <td>a55475b1</td>\n      <td>a55475b1</td>\n      <td>a55475b1</td>\n      <td>a55475b1</td>\n      <td>NaN</td>\n      <td>D</td>\n      <td>24.0</td>\n    </tr>\n    <tr>\n      <th>1</th>\n      <td>2</td>\n      <td>0.0</td>\n      <td>1682.4</td>\n      <td>NaN</td>\n      <td>NaN</td>\n      <td>a55475b1</td>\n      <td>0.0</td>\n      <td>2013-04-03</td>\n      <td>NaN</td>\n      <td>0.0</td>\n      <td>...</td>\n      <td>1</td>\n      <td>NaN</td>\n      <td>12.0</td>\n      <td>a55475b1</td>\n      <td>a55475b1</td>\n      <td>a55475b1</td>\n      <td>a55475b1</td>\n      <td>NaN</td>\n      <td>D</td>\n      <td>12.0</td>\n    </tr>\n    <tr>\n      <th>2</th>\n      <td>3</td>\n      <td>0.0</td>\n      <td>6140.0</td>\n      <td>NaN</td>\n      <td>NaN</td>\n      <td>P94_109_143</td>\n      <td>NaN</td>\n      <td>2019-01-07</td>\n      <td>NaN</td>\n      <td>0.0</td>\n      <td>...</td>\n      <td>0</td>\n      <td>NaN</td>\n      <td>12.0</td>\n      <td>a55475b1</td>\n      <td>a55475b1</td>\n      <td>P94_109_143</td>\n      <td>a55475b1</td>\n      <td>NaN</td>\n      <td>D</td>\n      <td>12.0</td>\n    </tr>\n    <tr>\n      <th>3</th>\n      <td>4</td>\n      <td>0.0</td>\n      <td>2556.6</td>\n      <td>NaN</td>\n      <td>NaN</td>\n      <td>P24_27_36</td>\n      <td>NaN</td>\n      <td>2019-01-08</td>\n      <td>NaN</td>\n      <td>0.0</td>\n      <td>...</td>\n      <td>0</td>\n      <td>NaN</td>\n      <td>24.0</td>\n      <td>a55475b1</td>\n      <td>a55475b1</td>\n      <td>a55475b1</td>\n      <td>a55475b1</td>\n      <td>NaN</td>\n      <td>T</td>\n      <td>24.0</td>\n    </tr>\n    <tr>\n      <th>4</th>\n      <td>5</td>\n      <td>0.0</td>\n      <td>NaN</td>\n      <td>NaN</td>\n      <td>NaN</td>\n      <td>P85_114_140</td>\n      <td>NaN</td>\n      <td>2019-01-16</td>\n      <td>NaN</td>\n      <td>NaN</td>\n      <td>...</td>\n      <td>0</td>\n      <td>NaN</td>\n      <td>NaN</td>\n      <td>a55475b1</td>\n      <td>a55475b1</td>\n      <td>a55475b1</td>\n      <td>a55475b1</td>\n      <td>NaN</td>\n      <td>T</td>\n      <td>NaN</td>\n    </tr>\n    <tr>\n      <th>...</th>\n      <td>...</td>\n      <td>...</td>\n      <td>...</td>\n      <td>...</td>\n      <td>...</td>\n      <td>...</td>\n      <td>...</td>\n      <td>...</td>\n      <td>...</td>\n      <td>...</td>\n      <td>...</td>\n      <td>...</td>\n      <td>...</td>\n      <td>...</td>\n      <td>...</td>\n      <td>...</td>\n      <td>...</td>\n      <td>...</td>\n      <td>...</td>\n      <td>...</td>\n      <td>...</td>\n    </tr>\n    <tr>\n      <th>3887679</th>\n      <td>2651092</td>\n      <td>0.0</td>\n      <td>0.0</td>\n      <td>NaN</td>\n      <td>NaN</td>\n      <td>P94_109_143</td>\n      <td>NaN</td>\n      <td>2018-05-04</td>\n      <td>NaN</td>\n      <td>100000.0</td>\n      <td>...</td>\n      <td>3</td>\n      <td>NaN</td>\n      <td>NaN</td>\n      <td>P46_145_78</td>\n      <td>a55475b1</td>\n      <td>P99_56_166</td>\n      <td>P94_109_143</td>\n      <td>NaN</td>\n      <td>D</td>\n      <td>NaN</td>\n    </tr>\n    <tr>\n      <th>3887680</th>\n      <td>2651092</td>\n      <td>0.0</td>\n      <td>4366.0</td>\n      <td>2017-11-09</td>\n      <td>NaN</td>\n      <td>a55475b1</td>\n      <td>NaN</td>\n      <td>2017-11-09</td>\n      <td>NaN</td>\n      <td>0.0</td>\n      <td>...</td>\n      <td>4</td>\n      <td>0.0</td>\n      <td>5.0</td>\n      <td>P60_146_156</td>\n      <td>a55475b1</td>\n      <td>a55475b1</td>\n      <td>a55475b1</td>\n      <td>NaN</td>\n      <td>K</td>\n      <td>5.0</td>\n    </tr>\n    <tr>\n      <th>3887681</th>\n      <td>2651092</td>\n      <td>0.0</td>\n      <td>2632.2</td>\n      <td>2015-12-11</td>\n      <td>1.0</td>\n      <td>a55475b1</td>\n      <td>1.0</td>\n      <td>2015-12-11</td>\n      <td>NaN</td>\n      <td>0.0</td>\n      <td>...</td>\n      <td>5</td>\n      <td>0.0</td>\n      <td>14.0</td>\n      <td>P46_145_78</td>\n      <td>a55475b1</td>\n      <td>a55475b1</td>\n      <td>a55475b1</td>\n      <td>NaN</td>\n      <td>K</td>\n      <td>14.0</td>\n    </tr>\n    <tr>\n      <th>3887682</th>\n      <td>2651092</td>\n      <td>0.0</td>\n      <td>NaN</td>\n      <td>2014-02-15</td>\n      <td>60000.0</td>\n      <td>a55475b1</td>\n      <td>1.0</td>\n      <td>2014-02-15</td>\n      <td>NaN</td>\n      <td>53300.0</td>\n      <td>...</td>\n      <td>6</td>\n      <td>0.0</td>\n      <td>NaN</td>\n      <td>P46_145_78</td>\n      <td>a55475b1</td>\n      <td>a55475b1</td>\n      <td>a55475b1</td>\n      <td>680531000.0</td>\n      <td>K</td>\n      <td>NaN</td>\n    </tr>\n    <tr>\n      <th>3887683</th>\n      <td>2651092</td>\n      <td>0.0</td>\n      <td>3119.2</td>\n      <td>2012-12-12</td>\n      <td>25000.0</td>\n      <td>a55475b1</td>\n      <td>1.0</td>\n      <td>2012-12-12</td>\n      <td>NaN</td>\n      <td>0.0</td>\n      <td>...</td>\n      <td>7</td>\n      <td>0.0</td>\n      <td>12.0</td>\n      <td>P149_40_170</td>\n      <td>a55475b1</td>\n      <td>a55475b1</td>\n      <td>a55475b1</td>\n      <td>NaN</td>\n      <td>K</td>\n      <td>12.0</td>\n    </tr>\n  </tbody>\n</table>\n<p>3887684 rows × 41 columns</p>\n</div>"
     },
     "execution_count": 19,
     "metadata": {},
     "output_type": "execute_result"
    }
   ],
   "source": [
    "file_name = \"csv_files/train/train_applprev_1_0.csv\"\n",
    "\n",
    "file_path = os.path.join(data_path, file_name)\n",
    "\n",
    "# Прочитайте CSV файл в DataFrame с помощью pandas\n",
    "data1 = pd.read_csv(file_path, dtype={27: str})\n",
    "\n",
    "data1"
   ],
   "metadata": {
    "collapsed": false,
    "ExecuteTime": {
     "end_time": "2024-03-07T09:08:16.664087Z",
     "start_time": "2024-03-07T09:08:02.197463Z"
    }
   },
   "id": "16f30fcb15fa4e28",
   "execution_count": 19
  },
  {
   "cell_type": "code",
   "outputs": [
    {
     "data": {
      "text/plain": "            case_id  actualdpd_943P  annuity_853A  byoccupationinc_3656910L  \\\ncount  3.887684e+06    3.885450e+06  3.731833e+06             991660.000000   \nmean   1.397916e+06    1.056300e-02  3.413166e+03              19796.484030   \nstd    7.601594e+05    3.754277e+00  2.828269e+03              30687.652507   \nmin    2.000000e+00    0.000000e+00  0.000000e+00                  0.000000   \n25%    1.251506e+06    0.000000e+00  1.710600e+03                  1.000000   \n50%    1.451959e+06    0.000000e+00  2.761200e+03               5000.000000   \n75%    1.641585e+06    0.000000e+00  4.396400e+03              30000.000000   \nmax    2.651092e+06    3.676000e+03  1.051302e+05             200000.000000   \n\n       childnum_21L  credacc_actualbalance_314A  credacc_credlmt_575A  \\\ncount  1.933791e+06                1.681780e+05          3.768614e+06   \nmean   8.434702e-01                2.026958e+04          3.254677e+03   \nstd    1.209425e+00                2.600278e+04          1.406135e+04   \nmin    0.000000e+00               -1.140860e+05          0.000000e+00   \n25%    0.000000e+00                3.030500e+00          0.000000e+00   \n50%    0.000000e+00                1.258500e+04          0.000000e+00   \n75%    1.000000e+00                3.044600e+04          0.000000e+00   \nmax    2.000000e+01                2.540730e+06          4.000000e+05   \n\n       credacc_maxhisbal_375A  credacc_minhisbal_90A  \\\ncount            1.681780e+05          168178.000000   \nmean            -3.288887e+03           -6554.784203   \nstd              2.808611e+04           16888.862439   \nmin             -1.961082e+05         -206808.170000   \n25%              0.000000e+00           -1042.079025   \n50%              0.000000e+00               0.000000   \n75%              0.000000e+00               0.000000   \nmax              7.988198e+06          199567.000000   \n\n       credacc_transactions_402L  credamount_590A  currdebt_94A  downpmt_134A  \\\ncount              168178.000000     3.764355e+06  2.617307e+06  3.764355e+06   \nmean                    0.522125     3.865786e+04  5.229101e+03  4.578899e+02   \nstd                     2.951672     3.754434e+04  1.927842e+04  2.697226e+03   \nmin                     0.000000     0.000000e+00  0.000000e+00  0.000000e+00   \n25%                     0.000000     1.399800e+04  0.000000e+00  0.000000e+00   \n50%                     0.000000     2.700000e+04  0.000000e+00  0.000000e+00   \n75%                     0.000000     5.000000e+04  0.000000e+00  0.000000e+00   \nmax                   155.000000     7.153920e+05  5.074297e+05  3.204000e+05   \n\n       mainoccupationinc_437A  maxdpdtolerance_577P    num_group1  \\\ncount            3.851072e+06          2.070306e+06  3.887684e+06   \nmean             4.002969e+04          1.326582e+01  3.910262e+00   \nstd              3.139637e+04          1.348893e+02  4.101353e+00   \nmin              0.000000e+00          0.000000e+00  0.000000e+00   \n25%              1.800000e+04          0.000000e+00  1.000000e+00   \n50%              3.400000e+04          0.000000e+00  3.000000e+00   \n75%              5.200000e+04          1.000000e+00  6.000000e+00   \nmax              1.960000e+05          4.058000e+03  1.900000e+01   \n\n       outstandingdebt_522A     pmtnum_8L  revolvingaccount_394A    tenor_203L  \ncount          2.609762e+06  3.574851e+06           1.566510e+05  3.574851e+06  \nmean           6.994588e+03  1.578210e+01           7.403548e+08  1.578210e+01  \nstd            2.916248e+04  1.046206e+01           5.498686e+07  1.046206e+01  \nmin            0.000000e+00  3.000000e+00           5.403424e+08  3.000000e+00  \n25%            0.000000e+00  6.000000e+00           7.406884e+08  6.000000e+00  \n50%            0.000000e+00  1.200000e+01           7.602487e+08  1.200000e+01  \n75%            0.000000e+00  2.400000e+01           7.607250e+08  2.400000e+01  \nmax            1.210629e+06  6.200000e+01           7.808654e+08  6.200000e+01  ",
      "text/html": "<div>\n<style scoped>\n    .dataframe tbody tr th:only-of-type {\n        vertical-align: middle;\n    }\n\n    .dataframe tbody tr th {\n        vertical-align: top;\n    }\n\n    .dataframe thead th {\n        text-align: right;\n    }\n</style>\n<table border=\"1\" class=\"dataframe\">\n  <thead>\n    <tr style=\"text-align: right;\">\n      <th></th>\n      <th>case_id</th>\n      <th>actualdpd_943P</th>\n      <th>annuity_853A</th>\n      <th>byoccupationinc_3656910L</th>\n      <th>childnum_21L</th>\n      <th>credacc_actualbalance_314A</th>\n      <th>credacc_credlmt_575A</th>\n      <th>credacc_maxhisbal_375A</th>\n      <th>credacc_minhisbal_90A</th>\n      <th>credacc_transactions_402L</th>\n      <th>credamount_590A</th>\n      <th>currdebt_94A</th>\n      <th>downpmt_134A</th>\n      <th>mainoccupationinc_437A</th>\n      <th>maxdpdtolerance_577P</th>\n      <th>num_group1</th>\n      <th>outstandingdebt_522A</th>\n      <th>pmtnum_8L</th>\n      <th>revolvingaccount_394A</th>\n      <th>tenor_203L</th>\n    </tr>\n  </thead>\n  <tbody>\n    <tr>\n      <th>count</th>\n      <td>3.887684e+06</td>\n      <td>3.885450e+06</td>\n      <td>3.731833e+06</td>\n      <td>991660.000000</td>\n      <td>1.933791e+06</td>\n      <td>1.681780e+05</td>\n      <td>3.768614e+06</td>\n      <td>1.681780e+05</td>\n      <td>168178.000000</td>\n      <td>168178.000000</td>\n      <td>3.764355e+06</td>\n      <td>2.617307e+06</td>\n      <td>3.764355e+06</td>\n      <td>3.851072e+06</td>\n      <td>2.070306e+06</td>\n      <td>3.887684e+06</td>\n      <td>2.609762e+06</td>\n      <td>3.574851e+06</td>\n      <td>1.566510e+05</td>\n      <td>3.574851e+06</td>\n    </tr>\n    <tr>\n      <th>mean</th>\n      <td>1.397916e+06</td>\n      <td>1.056300e-02</td>\n      <td>3.413166e+03</td>\n      <td>19796.484030</td>\n      <td>8.434702e-01</td>\n      <td>2.026958e+04</td>\n      <td>3.254677e+03</td>\n      <td>-3.288887e+03</td>\n      <td>-6554.784203</td>\n      <td>0.522125</td>\n      <td>3.865786e+04</td>\n      <td>5.229101e+03</td>\n      <td>4.578899e+02</td>\n      <td>4.002969e+04</td>\n      <td>1.326582e+01</td>\n      <td>3.910262e+00</td>\n      <td>6.994588e+03</td>\n      <td>1.578210e+01</td>\n      <td>7.403548e+08</td>\n      <td>1.578210e+01</td>\n    </tr>\n    <tr>\n      <th>std</th>\n      <td>7.601594e+05</td>\n      <td>3.754277e+00</td>\n      <td>2.828269e+03</td>\n      <td>30687.652507</td>\n      <td>1.209425e+00</td>\n      <td>2.600278e+04</td>\n      <td>1.406135e+04</td>\n      <td>2.808611e+04</td>\n      <td>16888.862439</td>\n      <td>2.951672</td>\n      <td>3.754434e+04</td>\n      <td>1.927842e+04</td>\n      <td>2.697226e+03</td>\n      <td>3.139637e+04</td>\n      <td>1.348893e+02</td>\n      <td>4.101353e+00</td>\n      <td>2.916248e+04</td>\n      <td>1.046206e+01</td>\n      <td>5.498686e+07</td>\n      <td>1.046206e+01</td>\n    </tr>\n    <tr>\n      <th>min</th>\n      <td>2.000000e+00</td>\n      <td>0.000000e+00</td>\n      <td>0.000000e+00</td>\n      <td>0.000000</td>\n      <td>0.000000e+00</td>\n      <td>-1.140860e+05</td>\n      <td>0.000000e+00</td>\n      <td>-1.961082e+05</td>\n      <td>-206808.170000</td>\n      <td>0.000000</td>\n      <td>0.000000e+00</td>\n      <td>0.000000e+00</td>\n      <td>0.000000e+00</td>\n      <td>0.000000e+00</td>\n      <td>0.000000e+00</td>\n      <td>0.000000e+00</td>\n      <td>0.000000e+00</td>\n      <td>3.000000e+00</td>\n      <td>5.403424e+08</td>\n      <td>3.000000e+00</td>\n    </tr>\n    <tr>\n      <th>25%</th>\n      <td>1.251506e+06</td>\n      <td>0.000000e+00</td>\n      <td>1.710600e+03</td>\n      <td>1.000000</td>\n      <td>0.000000e+00</td>\n      <td>3.030500e+00</td>\n      <td>0.000000e+00</td>\n      <td>0.000000e+00</td>\n      <td>-1042.079025</td>\n      <td>0.000000</td>\n      <td>1.399800e+04</td>\n      <td>0.000000e+00</td>\n      <td>0.000000e+00</td>\n      <td>1.800000e+04</td>\n      <td>0.000000e+00</td>\n      <td>1.000000e+00</td>\n      <td>0.000000e+00</td>\n      <td>6.000000e+00</td>\n      <td>7.406884e+08</td>\n      <td>6.000000e+00</td>\n    </tr>\n    <tr>\n      <th>50%</th>\n      <td>1.451959e+06</td>\n      <td>0.000000e+00</td>\n      <td>2.761200e+03</td>\n      <td>5000.000000</td>\n      <td>0.000000e+00</td>\n      <td>1.258500e+04</td>\n      <td>0.000000e+00</td>\n      <td>0.000000e+00</td>\n      <td>0.000000</td>\n      <td>0.000000</td>\n      <td>2.700000e+04</td>\n      <td>0.000000e+00</td>\n      <td>0.000000e+00</td>\n      <td>3.400000e+04</td>\n      <td>0.000000e+00</td>\n      <td>3.000000e+00</td>\n      <td>0.000000e+00</td>\n      <td>1.200000e+01</td>\n      <td>7.602487e+08</td>\n      <td>1.200000e+01</td>\n    </tr>\n    <tr>\n      <th>75%</th>\n      <td>1.641585e+06</td>\n      <td>0.000000e+00</td>\n      <td>4.396400e+03</td>\n      <td>30000.000000</td>\n      <td>1.000000e+00</td>\n      <td>3.044600e+04</td>\n      <td>0.000000e+00</td>\n      <td>0.000000e+00</td>\n      <td>0.000000</td>\n      <td>0.000000</td>\n      <td>5.000000e+04</td>\n      <td>0.000000e+00</td>\n      <td>0.000000e+00</td>\n      <td>5.200000e+04</td>\n      <td>1.000000e+00</td>\n      <td>6.000000e+00</td>\n      <td>0.000000e+00</td>\n      <td>2.400000e+01</td>\n      <td>7.607250e+08</td>\n      <td>2.400000e+01</td>\n    </tr>\n    <tr>\n      <th>max</th>\n      <td>2.651092e+06</td>\n      <td>3.676000e+03</td>\n      <td>1.051302e+05</td>\n      <td>200000.000000</td>\n      <td>2.000000e+01</td>\n      <td>2.540730e+06</td>\n      <td>4.000000e+05</td>\n      <td>7.988198e+06</td>\n      <td>199567.000000</td>\n      <td>155.000000</td>\n      <td>7.153920e+05</td>\n      <td>5.074297e+05</td>\n      <td>3.204000e+05</td>\n      <td>1.960000e+05</td>\n      <td>4.058000e+03</td>\n      <td>1.900000e+01</td>\n      <td>1.210629e+06</td>\n      <td>6.200000e+01</td>\n      <td>7.808654e+08</td>\n      <td>6.200000e+01</td>\n    </tr>\n  </tbody>\n</table>\n</div>"
     },
     "execution_count": 20,
     "metadata": {},
     "output_type": "execute_result"
    }
   ],
   "source": [
    "data1.describe()\n"
   ],
   "metadata": {
    "collapsed": false,
    "ExecuteTime": {
     "end_time": "2024-03-07T09:25:31.387418Z",
     "start_time": "2024-03-07T09:25:27.518400Z"
    }
   },
   "id": "b201dcca54cca0d8",
   "execution_count": 20
  },
  {
   "cell_type": "code",
   "outputs": [],
   "source": [
    "fig, axes = plt.subplots(2, 2, figsize=(10,8))\n",
    "\n",
    "for i, ax in enumerate(axes.ravel()):\n",
    "    # ax.hist(data1.iloc[:, i], bins=15)\n",
    "    ax.hist(data1.iloc[:, i].astype(str), bins=15)\n",
    "    ax.set_xlabel(data1.columns[i])\n",
    "    ax.set_ylabel('Frequency')\n",
    "    # ax.axvline(data1.iloc[:, i].mean(), color='r', linestyle='dashed', linewidth=1)\n",
    "    ax.axvline(data1.iloc[:, i].mean(skipna=True), color='r', linestyle='dashed', linewidth=1)\n",
    "\n",
    "    ax.axvline(data1.iloc[:, i].median(), color='g', linestyle='dashed', linewidth=1)\n",
    "\n",
    "plt.show()"
   ],
   "metadata": {
    "collapsed": false,
    "is_executing": true
   },
   "id": "6a605e43fab549fa",
   "execution_count": null
  },
  {
   "cell_type": "code",
   "outputs": [],
   "source": [],
   "metadata": {
    "collapsed": false
   },
   "id": "3eeb5d71d6cf663e"
  }
 ],
 "metadata": {
  "kernelspec": {
   "display_name": "Python 3",
   "language": "python",
   "name": "python3"
  },
  "language_info": {
   "codemirror_mode": {
    "name": "ipython",
    "version": 2
   },
   "file_extension": ".py",
   "mimetype": "text/x-python",
   "name": "python",
   "nbconvert_exporter": "python",
   "pygments_lexer": "ipython2",
   "version": "2.7.6"
  }
 },
 "nbformat": 4,
 "nbformat_minor": 5
}
