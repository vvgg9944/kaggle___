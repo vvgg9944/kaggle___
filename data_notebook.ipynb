{
 "cells": [
  {
   "cell_type": "code",
   "execution_count": 5,
   "id": "initial_id",
   "metadata": {
    "collapsed": true,
    "ExecuteTime": {
     "end_time": "2024-03-13T21:45:31.563607Z",
     "start_time": "2024-03-13T21:45:31.559608Z"
    }
   },
   "outputs": [],
   "source": [
    "import pandas as pd\n",
    "import numpy as np\n",
    "import os\n",
    "import matplotlib.pyplot as plt\n",
    "import numpy as np\n",
    "import pandas as pd\n",
    "import lightgbm as lgb\n",
    "from sklearn.model_selection import train_test_split\n",
    "from sklearn.metrics import roc_auc_score\n"
   ]
  },
  {
   "cell_type": "markdown",
   "source": [
    "### About dataset\n",
    "\n",
    "This is Kaggle dataset taken from Home Credit - Credit Risk Model Stability competition(https://www.kaggle.com/competitions/home-credit-credit-risk-model-stability).\n",
    "\n",
    "Overview\n",
    "The goal of this competition is to predict which clients are more likely to default on their loans. The evaluation will favor solutions that are stable over time.\n",
    "\n",
    "Your participation may offer consumer finance providers a more reliable and longer-lasting way to assess a potential client’s default risk."
   ],
   "metadata": {
    "collapsed": false
   },
   "id": "6e6ec299918afb29"
  },
  {
   "cell_type": "code",
   "outputs": [
    {
     "data": {
      "text/plain": "'D:/data/kaggle_comp1/'"
     },
     "execution_count": 14,
     "metadata": {},
     "output_type": "execute_result"
    }
   ],
   "source": [
    "# Открываем файл для чтения с использованием контекстного менеджера\n",
    "with open(\"data_path.txt\", \"r\") as file:\n",
    "    # Читаем содержимое файла\n",
    "    dataPath = file.read()\n",
    "dataPath"
   ],
   "metadata": {
    "collapsed": false,
    "ExecuteTime": {
     "end_time": "2024-03-13T21:47:22.491177Z",
     "start_time": "2024-03-13T21:47:22.479177Z"
    }
   },
   "id": "47404e5f01d56f61",
   "execution_count": 14
  },
  {
   "cell_type": "code",
   "outputs": [
    {
     "data": {
      "text/plain": "                     Variable  \\\n0              actualdpd_943P   \n1     actualdpdtolerance_344P   \n2        addres_district_368M   \n3            addres_role_871L   \n4             addres_zip_823M   \n..                        ...   \n460  totinstallast1m_4525188A   \n461        twobodfilling_608L   \n462                  type_25L   \n463            typesuite_864L   \n464           validfrom_1069D   \n\n                                           Description  \n0    Days Past Due (DPD) of previous contract (actu...  \n1                        DPD of client with tolerance.  \n2                    District of the person's address.  \n3                            Role of person's address.  \n4                             Zip code of the address.  \n..                                                 ...  \n460  Total amount of monthly instalments paid in th...  \n461                       Type of application process.  \n462                          Contact type of a person.  \n463  Persons accompanying the client during the loa...  \n464      Date since the client has an active campaign.  \n\n[465 rows x 2 columns]",
      "text/html": "<div>\n<style scoped>\n    .dataframe tbody tr th:only-of-type {\n        vertical-align: middle;\n    }\n\n    .dataframe tbody tr th {\n        vertical-align: top;\n    }\n\n    .dataframe thead th {\n        text-align: right;\n    }\n</style>\n<table border=\"1\" class=\"dataframe\">\n  <thead>\n    <tr style=\"text-align: right;\">\n      <th></th>\n      <th>Variable</th>\n      <th>Description</th>\n    </tr>\n  </thead>\n  <tbody>\n    <tr>\n      <th>0</th>\n      <td>actualdpd_943P</td>\n      <td>Days Past Due (DPD) of previous contract (actu...</td>\n    </tr>\n    <tr>\n      <th>1</th>\n      <td>actualdpdtolerance_344P</td>\n      <td>DPD of client with tolerance.</td>\n    </tr>\n    <tr>\n      <th>2</th>\n      <td>addres_district_368M</td>\n      <td>District of the person's address.</td>\n    </tr>\n    <tr>\n      <th>3</th>\n      <td>addres_role_871L</td>\n      <td>Role of person's address.</td>\n    </tr>\n    <tr>\n      <th>4</th>\n      <td>addres_zip_823M</td>\n      <td>Zip code of the address.</td>\n    </tr>\n    <tr>\n      <th>...</th>\n      <td>...</td>\n      <td>...</td>\n    </tr>\n    <tr>\n      <th>460</th>\n      <td>totinstallast1m_4525188A</td>\n      <td>Total amount of monthly instalments paid in th...</td>\n    </tr>\n    <tr>\n      <th>461</th>\n      <td>twobodfilling_608L</td>\n      <td>Type of application process.</td>\n    </tr>\n    <tr>\n      <th>462</th>\n      <td>type_25L</td>\n      <td>Contact type of a person.</td>\n    </tr>\n    <tr>\n      <th>463</th>\n      <td>typesuite_864L</td>\n      <td>Persons accompanying the client during the loa...</td>\n    </tr>\n    <tr>\n      <th>464</th>\n      <td>validfrom_1069D</td>\n      <td>Date since the client has an active campaign.</td>\n    </tr>\n  </tbody>\n</table>\n<p>465 rows × 2 columns</p>\n</div>"
     },
     "execution_count": 15,
     "metadata": {},
     "output_type": "execute_result"
    }
   ],
   "source": [
    "file_name = \"feature_definitions.csv\"\n",
    "\n",
    "file_path = os.path.join(dataPath, file_name)\n",
    "\n",
    "# Прочитайте CSV файл в DataFrame с помощью pandas\n",
    "df = pd.read_csv(file_path)\n",
    "\n",
    "df"
   ],
   "metadata": {
    "collapsed": false,
    "ExecuteTime": {
     "end_time": "2024-03-13T21:47:22.680770Z",
     "start_time": "2024-03-13T21:47:22.651772Z"
    }
   },
   "id": "d1b3794a560b77e8",
   "execution_count": 15
  },
  {
   "cell_type": "code",
   "outputs": [],
   "source": [
    "file_name = \"csv_files/train/train_applprev_1_0.csv\"\n",
    "\n",
    "file_path = os.path.join(dataPath, file_name)\n",
    "\n",
    "# Прочитайте CSV файл в DataFrame с помощью pandas\n",
    "data1 = pd.read_csv(file_path, dtype={27: str})\n",
    "\n",
    "data1"
   ],
   "metadata": {
    "collapsed": false
   },
   "id": "16f30fcb15fa4e28",
   "execution_count": null
  },
  {
   "cell_type": "code",
   "outputs": [
    {
     "data": {
      "text/plain": "            case_id  actualdpd_943P  annuity_853A  byoccupationinc_3656910L  \\\ncount  3.887684e+06    3.885450e+06  3.731833e+06             991660.000000   \nmean   1.397916e+06    1.056300e-02  3.413166e+03              19796.484030   \nstd    7.601594e+05    3.754277e+00  2.828269e+03              30687.652507   \nmin    2.000000e+00    0.000000e+00  0.000000e+00                  0.000000   \n25%    1.251506e+06    0.000000e+00  1.710600e+03                  1.000000   \n50%    1.451959e+06    0.000000e+00  2.761200e+03               5000.000000   \n75%    1.641585e+06    0.000000e+00  4.396400e+03              30000.000000   \nmax    2.651092e+06    3.676000e+03  1.051302e+05             200000.000000   \n\n       childnum_21L  credacc_actualbalance_314A  credacc_credlmt_575A  \\\ncount  1.933791e+06                1.681780e+05          3.768614e+06   \nmean   8.434702e-01                2.026958e+04          3.254677e+03   \nstd    1.209425e+00                2.600278e+04          1.406135e+04   \nmin    0.000000e+00               -1.140860e+05          0.000000e+00   \n25%    0.000000e+00                3.030500e+00          0.000000e+00   \n50%    0.000000e+00                1.258500e+04          0.000000e+00   \n75%    1.000000e+00                3.044600e+04          0.000000e+00   \nmax    2.000000e+01                2.540730e+06          4.000000e+05   \n\n       credacc_maxhisbal_375A  credacc_minhisbal_90A  \\\ncount            1.681780e+05          168178.000000   \nmean            -3.288887e+03           -6554.784203   \nstd              2.808611e+04           16888.862439   \nmin             -1.961082e+05         -206808.170000   \n25%              0.000000e+00           -1042.079025   \n50%              0.000000e+00               0.000000   \n75%              0.000000e+00               0.000000   \nmax              7.988198e+06          199567.000000   \n\n       credacc_transactions_402L  credamount_590A  currdebt_94A  downpmt_134A  \\\ncount              168178.000000     3.764355e+06  2.617307e+06  3.764355e+06   \nmean                    0.522125     3.865786e+04  5.229101e+03  4.578899e+02   \nstd                     2.951672     3.754434e+04  1.927842e+04  2.697226e+03   \nmin                     0.000000     0.000000e+00  0.000000e+00  0.000000e+00   \n25%                     0.000000     1.399800e+04  0.000000e+00  0.000000e+00   \n50%                     0.000000     2.700000e+04  0.000000e+00  0.000000e+00   \n75%                     0.000000     5.000000e+04  0.000000e+00  0.000000e+00   \nmax                   155.000000     7.153920e+05  5.074297e+05  3.204000e+05   \n\n       mainoccupationinc_437A  maxdpdtolerance_577P    num_group1  \\\ncount            3.851072e+06          2.070306e+06  3.887684e+06   \nmean             4.002969e+04          1.326582e+01  3.910262e+00   \nstd              3.139637e+04          1.348893e+02  4.101353e+00   \nmin              0.000000e+00          0.000000e+00  0.000000e+00   \n25%              1.800000e+04          0.000000e+00  1.000000e+00   \n50%              3.400000e+04          0.000000e+00  3.000000e+00   \n75%              5.200000e+04          1.000000e+00  6.000000e+00   \nmax              1.960000e+05          4.058000e+03  1.900000e+01   \n\n       outstandingdebt_522A     pmtnum_8L  revolvingaccount_394A    tenor_203L  \ncount          2.609762e+06  3.574851e+06           1.566510e+05  3.574851e+06  \nmean           6.994588e+03  1.578210e+01           7.403548e+08  1.578210e+01  \nstd            2.916248e+04  1.046206e+01           5.498686e+07  1.046206e+01  \nmin            0.000000e+00  3.000000e+00           5.403424e+08  3.000000e+00  \n25%            0.000000e+00  6.000000e+00           7.406884e+08  6.000000e+00  \n50%            0.000000e+00  1.200000e+01           7.602487e+08  1.200000e+01  \n75%            0.000000e+00  2.400000e+01           7.607250e+08  2.400000e+01  \nmax            1.210629e+06  6.200000e+01           7.808654e+08  6.200000e+01  ",
      "text/html": "<div>\n<style scoped>\n    .dataframe tbody tr th:only-of-type {\n        vertical-align: middle;\n    }\n\n    .dataframe tbody tr th {\n        vertical-align: top;\n    }\n\n    .dataframe thead th {\n        text-align: right;\n    }\n</style>\n<table border=\"1\" class=\"dataframe\">\n  <thead>\n    <tr style=\"text-align: right;\">\n      <th></th>\n      <th>case_id</th>\n      <th>actualdpd_943P</th>\n      <th>annuity_853A</th>\n      <th>byoccupationinc_3656910L</th>\n      <th>childnum_21L</th>\n      <th>credacc_actualbalance_314A</th>\n      <th>credacc_credlmt_575A</th>\n      <th>credacc_maxhisbal_375A</th>\n      <th>credacc_minhisbal_90A</th>\n      <th>credacc_transactions_402L</th>\n      <th>credamount_590A</th>\n      <th>currdebt_94A</th>\n      <th>downpmt_134A</th>\n      <th>mainoccupationinc_437A</th>\n      <th>maxdpdtolerance_577P</th>\n      <th>num_group1</th>\n      <th>outstandingdebt_522A</th>\n      <th>pmtnum_8L</th>\n      <th>revolvingaccount_394A</th>\n      <th>tenor_203L</th>\n    </tr>\n  </thead>\n  <tbody>\n    <tr>\n      <th>count</th>\n      <td>3.887684e+06</td>\n      <td>3.885450e+06</td>\n      <td>3.731833e+06</td>\n      <td>991660.000000</td>\n      <td>1.933791e+06</td>\n      <td>1.681780e+05</td>\n      <td>3.768614e+06</td>\n      <td>1.681780e+05</td>\n      <td>168178.000000</td>\n      <td>168178.000000</td>\n      <td>3.764355e+06</td>\n      <td>2.617307e+06</td>\n      <td>3.764355e+06</td>\n      <td>3.851072e+06</td>\n      <td>2.070306e+06</td>\n      <td>3.887684e+06</td>\n      <td>2.609762e+06</td>\n      <td>3.574851e+06</td>\n      <td>1.566510e+05</td>\n      <td>3.574851e+06</td>\n    </tr>\n    <tr>\n      <th>mean</th>\n      <td>1.397916e+06</td>\n      <td>1.056300e-02</td>\n      <td>3.413166e+03</td>\n      <td>19796.484030</td>\n      <td>8.434702e-01</td>\n      <td>2.026958e+04</td>\n      <td>3.254677e+03</td>\n      <td>-3.288887e+03</td>\n      <td>-6554.784203</td>\n      <td>0.522125</td>\n      <td>3.865786e+04</td>\n      <td>5.229101e+03</td>\n      <td>4.578899e+02</td>\n      <td>4.002969e+04</td>\n      <td>1.326582e+01</td>\n      <td>3.910262e+00</td>\n      <td>6.994588e+03</td>\n      <td>1.578210e+01</td>\n      <td>7.403548e+08</td>\n      <td>1.578210e+01</td>\n    </tr>\n    <tr>\n      <th>std</th>\n      <td>7.601594e+05</td>\n      <td>3.754277e+00</td>\n      <td>2.828269e+03</td>\n      <td>30687.652507</td>\n      <td>1.209425e+00</td>\n      <td>2.600278e+04</td>\n      <td>1.406135e+04</td>\n      <td>2.808611e+04</td>\n      <td>16888.862439</td>\n      <td>2.951672</td>\n      <td>3.754434e+04</td>\n      <td>1.927842e+04</td>\n      <td>2.697226e+03</td>\n      <td>3.139637e+04</td>\n      <td>1.348893e+02</td>\n      <td>4.101353e+00</td>\n      <td>2.916248e+04</td>\n      <td>1.046206e+01</td>\n      <td>5.498686e+07</td>\n      <td>1.046206e+01</td>\n    </tr>\n    <tr>\n      <th>min</th>\n      <td>2.000000e+00</td>\n      <td>0.000000e+00</td>\n      <td>0.000000e+00</td>\n      <td>0.000000</td>\n      <td>0.000000e+00</td>\n      <td>-1.140860e+05</td>\n      <td>0.000000e+00</td>\n      <td>-1.961082e+05</td>\n      <td>-206808.170000</td>\n      <td>0.000000</td>\n      <td>0.000000e+00</td>\n      <td>0.000000e+00</td>\n      <td>0.000000e+00</td>\n      <td>0.000000e+00</td>\n      <td>0.000000e+00</td>\n      <td>0.000000e+00</td>\n      <td>0.000000e+00</td>\n      <td>3.000000e+00</td>\n      <td>5.403424e+08</td>\n      <td>3.000000e+00</td>\n    </tr>\n    <tr>\n      <th>25%</th>\n      <td>1.251506e+06</td>\n      <td>0.000000e+00</td>\n      <td>1.710600e+03</td>\n      <td>1.000000</td>\n      <td>0.000000e+00</td>\n      <td>3.030500e+00</td>\n      <td>0.000000e+00</td>\n      <td>0.000000e+00</td>\n      <td>-1042.079025</td>\n      <td>0.000000</td>\n      <td>1.399800e+04</td>\n      <td>0.000000e+00</td>\n      <td>0.000000e+00</td>\n      <td>1.800000e+04</td>\n      <td>0.000000e+00</td>\n      <td>1.000000e+00</td>\n      <td>0.000000e+00</td>\n      <td>6.000000e+00</td>\n      <td>7.406884e+08</td>\n      <td>6.000000e+00</td>\n    </tr>\n    <tr>\n      <th>50%</th>\n      <td>1.451959e+06</td>\n      <td>0.000000e+00</td>\n      <td>2.761200e+03</td>\n      <td>5000.000000</td>\n      <td>0.000000e+00</td>\n      <td>1.258500e+04</td>\n      <td>0.000000e+00</td>\n      <td>0.000000e+00</td>\n      <td>0.000000</td>\n      <td>0.000000</td>\n      <td>2.700000e+04</td>\n      <td>0.000000e+00</td>\n      <td>0.000000e+00</td>\n      <td>3.400000e+04</td>\n      <td>0.000000e+00</td>\n      <td>3.000000e+00</td>\n      <td>0.000000e+00</td>\n      <td>1.200000e+01</td>\n      <td>7.602487e+08</td>\n      <td>1.200000e+01</td>\n    </tr>\n    <tr>\n      <th>75%</th>\n      <td>1.641585e+06</td>\n      <td>0.000000e+00</td>\n      <td>4.396400e+03</td>\n      <td>30000.000000</td>\n      <td>1.000000e+00</td>\n      <td>3.044600e+04</td>\n      <td>0.000000e+00</td>\n      <td>0.000000e+00</td>\n      <td>0.000000</td>\n      <td>0.000000</td>\n      <td>5.000000e+04</td>\n      <td>0.000000e+00</td>\n      <td>0.000000e+00</td>\n      <td>5.200000e+04</td>\n      <td>1.000000e+00</td>\n      <td>6.000000e+00</td>\n      <td>0.000000e+00</td>\n      <td>2.400000e+01</td>\n      <td>7.607250e+08</td>\n      <td>2.400000e+01</td>\n    </tr>\n    <tr>\n      <th>max</th>\n      <td>2.651092e+06</td>\n      <td>3.676000e+03</td>\n      <td>1.051302e+05</td>\n      <td>200000.000000</td>\n      <td>2.000000e+01</td>\n      <td>2.540730e+06</td>\n      <td>4.000000e+05</td>\n      <td>7.988198e+06</td>\n      <td>199567.000000</td>\n      <td>155.000000</td>\n      <td>7.153920e+05</td>\n      <td>5.074297e+05</td>\n      <td>3.204000e+05</td>\n      <td>1.960000e+05</td>\n      <td>4.058000e+03</td>\n      <td>1.900000e+01</td>\n      <td>1.210629e+06</td>\n      <td>6.200000e+01</td>\n      <td>7.808654e+08</td>\n      <td>6.200000e+01</td>\n    </tr>\n  </tbody>\n</table>\n</div>"
     },
     "execution_count": 5,
     "metadata": {},
     "output_type": "execute_result"
    }
   ],
   "source": [
    "data1.describe()\n"
   ],
   "metadata": {
    "collapsed": false,
    "ExecuteTime": {
     "end_time": "2024-03-13T20:29:20.162027Z",
     "start_time": "2024-03-13T20:29:16.084910Z"
    }
   },
   "id": "b201dcca54cca0d8",
   "execution_count": 5
  },
  {
   "cell_type": "code",
   "outputs": [],
   "source": [],
   "metadata": {
    "collapsed": false
   },
   "id": "3eeb5d71d6cf663e"
  },
  {
   "cell_type": "code",
   "outputs": [
    {
     "name": "stderr",
     "output_type": "stream",
     "text": [
      "C:\\Users\\Peter\\AppData\\Local\\Temp\\ipykernel_17768\\3419565707.py:16: DtypeWarning: Columns (20,45,46,53,57,84,143,146,167) have mixed types. Specify dtype option on import or set low_memory=False.\n",
      "  pd.read_csv(dataPath + \"csv_files/train/train_static_0_0.csv\").pipe(convert_strings),\n",
      "C:\\Users\\Peter\\AppData\\Local\\Temp\\ipykernel_17768\\3419565707.py:17: DtypeWarning: Columns (20,45,46,56,57,84,143,146,167) have mixed types. Specify dtype option on import or set low_memory=False.\n",
      "  pd.read_csv(dataPath + \"csv_files/train/train_static_0_1.csv\").pipe(convert_strings),\n",
      "C:\\Users\\Peter\\AppData\\Local\\Temp\\ipykernel_17768\\3419565707.py:22: DtypeWarning: Columns (1,2,3,4,7,45,46,47,48) have mixed types. Specify dtype option on import or set low_memory=False.\n",
      "  train_static_cb = pd.read_csv(dataPath + \"csv_files/train/train_static_cb_0.csv\").pipe(convert_strings)\n",
      "C:\\Users\\Peter\\AppData\\Local\\Temp\\ipykernel_17768\\3419565707.py:23: DtypeWarning: Columns (16) have mixed types. Specify dtype option on import or set low_memory=False.\n",
      "  train_person_1 = pd.read_csv(dataPath + \"csv_files/train/train_person_1.csv\").pipe(convert_strings)\n",
      "C:\\Users\\Peter\\AppData\\Local\\Temp\\ipykernel_17768\\3419565707.py:26: FutureWarning: The behavior of DataFrame concatenation with empty or all-NA entries is deprecated. In a future version, this will no longer exclude empty or all-NA columns when determining the result dtypes. To retain the old behavior, exclude the relevant entries before the concat operation.\n",
      "  test_static = pd.concat(\n",
      "C:\\Users\\Peter\\AppData\\Local\\Temp\\ipykernel_17768\\3419565707.py:26: FutureWarning: The behavior of DataFrame concatenation with empty or all-NA entries is deprecated. In a future version, this will no longer exclude empty or all-NA columns when determining the result dtypes. To retain the old behavior, exclude the relevant entries before the concat operation.\n",
      "  test_static = pd.concat(\n"
     ]
    }
   ],
   "source": [
    "# dataPath = \"/kaggle/input/home-credit-credit-risk-model-stability/\"\n",
    "\n",
    "def convert_strings(df: pd.DataFrame) -> pd.DataFrame:\n",
    "    for col in df.columns:\n",
    "        if df[col].dtype.name in ['object', 'string']:\n",
    "            df[col] = df[col].astype(\"string\").astype('category')\n",
    "            current_categories = df[col].cat.categories\n",
    "            new_categories = current_categories.to_list() + [\"Unknown\"]\n",
    "            new_dtype = pd.CategoricalDtype(categories=new_categories, ordered=True)\n",
    "            df[col] = df[col].astype(new_dtype)\n",
    "    return df\n",
    "\n",
    "train_basetable = pd.read_csv(dataPath + \"csv_files/train/train_base.csv\")\n",
    "train_static = pd.concat(\n",
    "    [\n",
    "        pd.read_csv(dataPath + \"csv_files/train/train_static_0_0.csv\").pipe(convert_strings),\n",
    "        pd.read_csv(dataPath + \"csv_files/train/train_static_0_1.csv\").pipe(convert_strings),\n",
    "    ],\n",
    "    axis=0,\n",
    "    ignore_index=True\n",
    ")\n",
    "train_static_cb = pd.read_csv(dataPath + \"csv_files/train/train_static_cb_0.csv\").pipe(convert_strings)\n",
    "train_person_1 = pd.read_csv(dataPath + \"csv_files/train/train_person_1.csv\").pipe(convert_strings)\n",
    "train_credit_bureau_b_2 = pd.read_csv(dataPath + \"csv_files/train/train_credit_bureau_b_2.csv\").pipe(convert_strings)\n",
    "test_basetable = pd.read_csv(dataPath + \"csv_files/test/test_base.csv\")\n",
    "test_static = pd.concat(\n",
    "    [\n",
    "        pd.read_csv(dataPath + \"csv_files/test/test_static_0_0.csv\").pipe(convert_strings),\n",
    "        pd.read_csv(dataPath + \"csv_files/test/test_static_0_1.csv\").pipe(convert_strings),\n",
    "        pd.read_csv(dataPath + \"csv_files/test/test_static_0_2.csv\").pipe(convert_strings),\n",
    "    ],\n",
    "    axis=0,\n",
    "    ignore_index=True\n",
    ")\n",
    "test_static_cb = pd.read_csv(dataPath + \"csv_files/test/test_static_cb_0.csv\").pipe(convert_strings)\n",
    "test_person_1 = pd.read_csv(dataPath + \"csv_files/test/test_person_1.csv\").pipe(convert_strings)\n",
    "test_credit_bureau_b_2 = pd.read_csv(dataPath + \"csv_files/test/test_credit_bureau_b_2.csv\").pipe(convert_strings)"
   ],
   "metadata": {
    "collapsed": false,
    "ExecuteTime": {
     "end_time": "2024-03-13T21:48:21.489135Z",
     "start_time": "2024-03-13T21:47:26.397970Z"
    }
   },
   "id": "9c759bceb0ced3e4",
   "execution_count": 16
  },
  {
   "cell_type": "code",
   "outputs": [
    {
     "ename": "KeyError",
     "evalue": "\"['num_group1'] not found in axis\"",
     "output_type": "error",
     "traceback": [
      "\u001B[1;31m---------------------------------------------------------------------------\u001B[0m",
      "\u001B[1;31mKeyError\u001B[0m                                  Traceback (most recent call last)",
      "Cell \u001B[1;32mIn[17], line 10\u001B[0m\n\u001B[0;32m      3\u001B[0m train_person_1_feats_1 \u001B[38;5;241m=\u001B[39m train_person_1\u001B[38;5;241m.\u001B[39mgroupby(\u001B[38;5;124m\"\u001B[39m\u001B[38;5;124mcase_id\u001B[39m\u001B[38;5;124m\"\u001B[39m)\u001B[38;5;241m.\u001B[39magg(\n\u001B[0;32m      4\u001B[0m     {\u001B[38;5;124m\"\u001B[39m\u001B[38;5;124mmainoccupationinc_384A\u001B[39m\u001B[38;5;124m\"\u001B[39m: \u001B[38;5;124m\"\u001B[39m\u001B[38;5;124mmax\u001B[39m\u001B[38;5;124m\"\u001B[39m,\n\u001B[0;32m      5\u001B[0m      \u001B[38;5;124m\"\u001B[39m\u001B[38;5;124mincometype_1044T\u001B[39m\u001B[38;5;124m\"\u001B[39m: \u001B[38;5;28;01mlambda\u001B[39;00m x: (x \u001B[38;5;241m==\u001B[39m \u001B[38;5;124m\"\u001B[39m\u001B[38;5;124mSELFEMPLOYED\u001B[39m\u001B[38;5;124m\"\u001B[39m)\u001B[38;5;241m.\u001B[39mmax()}\n\u001B[0;32m      6\u001B[0m )\u001B[38;5;241m.\u001B[39mrename(columns\u001B[38;5;241m=\u001B[39m{\u001B[38;5;124m\"\u001B[39m\u001B[38;5;124mmainoccupationinc_384A\u001B[39m\u001B[38;5;124m\"\u001B[39m: \u001B[38;5;124m\"\u001B[39m\u001B[38;5;124mmainoccupationinc_384A_max\u001B[39m\u001B[38;5;124m\"\u001B[39m,\n\u001B[0;32m      7\u001B[0m                   \u001B[38;5;124m\"\u001B[39m\u001B[38;5;124mincometype_1044T\u001B[39m\u001B[38;5;124m\"\u001B[39m: \u001B[38;5;124m\"\u001B[39m\u001B[38;5;124mmainoccupationinc_384A_any_selfemployed\u001B[39m\u001B[38;5;124m\"\u001B[39m})\n\u001B[0;32m      9\u001B[0m \u001B[38;5;66;03m# Here num_group1=0 has special meaning, it is the person who applied for the loan.\u001B[39;00m\n\u001B[1;32m---> 10\u001B[0m train_person_1_feats_2 \u001B[38;5;241m=\u001B[39m \u001B[43mtrain_person_1\u001B[49m\u001B[43m[\u001B[49m\u001B[43mtrain_person_1\u001B[49m\u001B[43m[\u001B[49m\u001B[38;5;124;43m\"\u001B[39;49m\u001B[38;5;124;43mnum_group1\u001B[39;49m\u001B[38;5;124;43m\"\u001B[39;49m\u001B[43m]\u001B[49m\u001B[43m \u001B[49m\u001B[38;5;241;43m==\u001B[39;49m\u001B[43m \u001B[49m\u001B[38;5;241;43m0\u001B[39;49m\u001B[43m]\u001B[49m\u001B[43m[\u001B[49m\u001B[43m[\u001B[49m\u001B[38;5;124;43m\"\u001B[39;49m\u001B[38;5;124;43mcase_id\u001B[39;49m\u001B[38;5;124;43m\"\u001B[39;49m\u001B[43m,\u001B[49m\u001B[43m \u001B[49m\u001B[38;5;124;43m\"\u001B[39;49m\u001B[38;5;124;43mhousetype_905L\u001B[39;49m\u001B[38;5;124;43m\"\u001B[39;49m\u001B[43m]\u001B[49m\u001B[43m]\u001B[49m\u001B[43m \u001B[49m\u001B[43m\\\u001B[49m\n\u001B[0;32m     11\u001B[0m \u001B[43m    \u001B[49m\u001B[38;5;241;43m.\u001B[39;49m\u001B[43mrename\u001B[49m\u001B[43m(\u001B[49m\u001B[43mcolumns\u001B[49m\u001B[38;5;241;43m=\u001B[39;49m\u001B[43m{\u001B[49m\u001B[38;5;124;43m\"\u001B[39;49m\u001B[38;5;124;43mhousetype_905L\u001B[39;49m\u001B[38;5;124;43m\"\u001B[39;49m\u001B[43m:\u001B[49m\u001B[43m \u001B[49m\u001B[38;5;124;43m\"\u001B[39;49m\u001B[38;5;124;43mperson_housetype\u001B[39;49m\u001B[38;5;124;43m\"\u001B[39;49m\u001B[43m}\u001B[49m\u001B[43m)\u001B[49m\u001B[38;5;241;43m.\u001B[39;49m\u001B[43mdrop\u001B[49m\u001B[43m(\u001B[49m\u001B[43mcolumns\u001B[49m\u001B[38;5;241;43m=\u001B[39;49m\u001B[43m[\u001B[49m\u001B[38;5;124;43m\"\u001B[39;49m\u001B[38;5;124;43mnum_group1\u001B[39;49m\u001B[38;5;124;43m\"\u001B[39;49m\u001B[43m]\u001B[49m\u001B[43m)\u001B[49m\n\u001B[0;32m     13\u001B[0m \u001B[38;5;66;03m# Here we have num_goup1 and num_group2, so we need to aggregate again.\u001B[39;00m\n\u001B[0;32m     14\u001B[0m train_credit_bureau_b_2_feats \u001B[38;5;241m=\u001B[39m train_credit_bureau_b_2\u001B[38;5;241m.\u001B[39mgroupby(\u001B[38;5;124m\"\u001B[39m\u001B[38;5;124mcase_id\u001B[39m\u001B[38;5;124m\"\u001B[39m)\u001B[38;5;241m.\u001B[39magg(\n\u001B[0;32m     15\u001B[0m     {\u001B[38;5;124m\"\u001B[39m\u001B[38;5;124mpmts_pmtsoverdue_635A\u001B[39m\u001B[38;5;124m\"\u001B[39m: \u001B[38;5;124m\"\u001B[39m\u001B[38;5;124mmax\u001B[39m\u001B[38;5;124m\"\u001B[39m,\n\u001B[0;32m     16\u001B[0m      \u001B[38;5;124m\"\u001B[39m\u001B[38;5;124mpmts_dpdvalue_108P\u001B[39m\u001B[38;5;124m\"\u001B[39m: \u001B[38;5;28;01mlambda\u001B[39;00m x: (x \u001B[38;5;241m>\u001B[39m \u001B[38;5;241m31\u001B[39m)\u001B[38;5;241m.\u001B[39mmax()}\n\u001B[0;32m     17\u001B[0m )\u001B[38;5;241m.\u001B[39mrename(columns\u001B[38;5;241m=\u001B[39m{\u001B[38;5;124m\"\u001B[39m\u001B[38;5;124mpmts_pmtsoverdue_635A\u001B[39m\u001B[38;5;124m\"\u001B[39m: \u001B[38;5;124m\"\u001B[39m\u001B[38;5;124mpmts_pmtsoverdue_635A_max\u001B[39m\u001B[38;5;124m\"\u001B[39m,\n\u001B[0;32m     18\u001B[0m                   \u001B[38;5;124m\"\u001B[39m\u001B[38;5;124mpmts_dpdvalue_108P\u001B[39m\u001B[38;5;124m\"\u001B[39m: \u001B[38;5;124m\"\u001B[39m\u001B[38;5;124mpmts_dpdvalue_108P_over31\u001B[39m\u001B[38;5;124m\"\u001B[39m})\n",
      "File \u001B[1;32mC:\\ProgramData\\anaconda3\\envs\\kaggle\\lib\\site-packages\\pandas\\core\\frame.py:5344\u001B[0m, in \u001B[0;36mDataFrame.drop\u001B[1;34m(self, labels, axis, index, columns, level, inplace, errors)\u001B[0m\n\u001B[0;32m   5196\u001B[0m \u001B[38;5;28;01mdef\u001B[39;00m \u001B[38;5;21mdrop\u001B[39m(\n\u001B[0;32m   5197\u001B[0m     \u001B[38;5;28mself\u001B[39m,\n\u001B[0;32m   5198\u001B[0m     labels: IndexLabel \u001B[38;5;241m|\u001B[39m \u001B[38;5;28;01mNone\u001B[39;00m \u001B[38;5;241m=\u001B[39m \u001B[38;5;28;01mNone\u001B[39;00m,\n\u001B[1;32m   (...)\u001B[0m\n\u001B[0;32m   5205\u001B[0m     errors: IgnoreRaise \u001B[38;5;241m=\u001B[39m \u001B[38;5;124m\"\u001B[39m\u001B[38;5;124mraise\u001B[39m\u001B[38;5;124m\"\u001B[39m,\n\u001B[0;32m   5206\u001B[0m ) \u001B[38;5;241m-\u001B[39m\u001B[38;5;241m>\u001B[39m DataFrame \u001B[38;5;241m|\u001B[39m \u001B[38;5;28;01mNone\u001B[39;00m:\n\u001B[0;32m   5207\u001B[0m \u001B[38;5;250m    \u001B[39m\u001B[38;5;124;03m\"\"\"\u001B[39;00m\n\u001B[0;32m   5208\u001B[0m \u001B[38;5;124;03m    Drop specified labels from rows or columns.\u001B[39;00m\n\u001B[0;32m   5209\u001B[0m \n\u001B[1;32m   (...)\u001B[0m\n\u001B[0;32m   5342\u001B[0m \u001B[38;5;124;03m            weight  1.0     0.8\u001B[39;00m\n\u001B[0;32m   5343\u001B[0m \u001B[38;5;124;03m    \"\"\"\u001B[39;00m\n\u001B[1;32m-> 5344\u001B[0m     \u001B[38;5;28;01mreturn\u001B[39;00m \u001B[38;5;28;43msuper\u001B[39;49m\u001B[43m(\u001B[49m\u001B[43m)\u001B[49m\u001B[38;5;241;43m.\u001B[39;49m\u001B[43mdrop\u001B[49m\u001B[43m(\u001B[49m\n\u001B[0;32m   5345\u001B[0m \u001B[43m        \u001B[49m\u001B[43mlabels\u001B[49m\u001B[38;5;241;43m=\u001B[39;49m\u001B[43mlabels\u001B[49m\u001B[43m,\u001B[49m\n\u001B[0;32m   5346\u001B[0m \u001B[43m        \u001B[49m\u001B[43maxis\u001B[49m\u001B[38;5;241;43m=\u001B[39;49m\u001B[43maxis\u001B[49m\u001B[43m,\u001B[49m\n\u001B[0;32m   5347\u001B[0m \u001B[43m        \u001B[49m\u001B[43mindex\u001B[49m\u001B[38;5;241;43m=\u001B[39;49m\u001B[43mindex\u001B[49m\u001B[43m,\u001B[49m\n\u001B[0;32m   5348\u001B[0m \u001B[43m        \u001B[49m\u001B[43mcolumns\u001B[49m\u001B[38;5;241;43m=\u001B[39;49m\u001B[43mcolumns\u001B[49m\u001B[43m,\u001B[49m\n\u001B[0;32m   5349\u001B[0m \u001B[43m        \u001B[49m\u001B[43mlevel\u001B[49m\u001B[38;5;241;43m=\u001B[39;49m\u001B[43mlevel\u001B[49m\u001B[43m,\u001B[49m\n\u001B[0;32m   5350\u001B[0m \u001B[43m        \u001B[49m\u001B[43minplace\u001B[49m\u001B[38;5;241;43m=\u001B[39;49m\u001B[43minplace\u001B[49m\u001B[43m,\u001B[49m\n\u001B[0;32m   5351\u001B[0m \u001B[43m        \u001B[49m\u001B[43merrors\u001B[49m\u001B[38;5;241;43m=\u001B[39;49m\u001B[43merrors\u001B[49m\u001B[43m,\u001B[49m\n\u001B[0;32m   5352\u001B[0m \u001B[43m    \u001B[49m\u001B[43m)\u001B[49m\n",
      "File \u001B[1;32mC:\\ProgramData\\anaconda3\\envs\\kaggle\\lib\\site-packages\\pandas\\core\\generic.py:4711\u001B[0m, in \u001B[0;36mNDFrame.drop\u001B[1;34m(self, labels, axis, index, columns, level, inplace, errors)\u001B[0m\n\u001B[0;32m   4709\u001B[0m \u001B[38;5;28;01mfor\u001B[39;00m axis, labels \u001B[38;5;129;01min\u001B[39;00m axes\u001B[38;5;241m.\u001B[39mitems():\n\u001B[0;32m   4710\u001B[0m     \u001B[38;5;28;01mif\u001B[39;00m labels \u001B[38;5;129;01mis\u001B[39;00m \u001B[38;5;129;01mnot\u001B[39;00m \u001B[38;5;28;01mNone\u001B[39;00m:\n\u001B[1;32m-> 4711\u001B[0m         obj \u001B[38;5;241m=\u001B[39m \u001B[43mobj\u001B[49m\u001B[38;5;241;43m.\u001B[39;49m\u001B[43m_drop_axis\u001B[49m\u001B[43m(\u001B[49m\u001B[43mlabels\u001B[49m\u001B[43m,\u001B[49m\u001B[43m \u001B[49m\u001B[43maxis\u001B[49m\u001B[43m,\u001B[49m\u001B[43m \u001B[49m\u001B[43mlevel\u001B[49m\u001B[38;5;241;43m=\u001B[39;49m\u001B[43mlevel\u001B[49m\u001B[43m,\u001B[49m\u001B[43m \u001B[49m\u001B[43merrors\u001B[49m\u001B[38;5;241;43m=\u001B[39;49m\u001B[43merrors\u001B[49m\u001B[43m)\u001B[49m\n\u001B[0;32m   4713\u001B[0m \u001B[38;5;28;01mif\u001B[39;00m inplace:\n\u001B[0;32m   4714\u001B[0m     \u001B[38;5;28mself\u001B[39m\u001B[38;5;241m.\u001B[39m_update_inplace(obj)\n",
      "File \u001B[1;32mC:\\ProgramData\\anaconda3\\envs\\kaggle\\lib\\site-packages\\pandas\\core\\generic.py:4753\u001B[0m, in \u001B[0;36mNDFrame._drop_axis\u001B[1;34m(self, labels, axis, level, errors, only_slice)\u001B[0m\n\u001B[0;32m   4751\u001B[0m         new_axis \u001B[38;5;241m=\u001B[39m axis\u001B[38;5;241m.\u001B[39mdrop(labels, level\u001B[38;5;241m=\u001B[39mlevel, errors\u001B[38;5;241m=\u001B[39merrors)\n\u001B[0;32m   4752\u001B[0m     \u001B[38;5;28;01melse\u001B[39;00m:\n\u001B[1;32m-> 4753\u001B[0m         new_axis \u001B[38;5;241m=\u001B[39m \u001B[43maxis\u001B[49m\u001B[38;5;241;43m.\u001B[39;49m\u001B[43mdrop\u001B[49m\u001B[43m(\u001B[49m\u001B[43mlabels\u001B[49m\u001B[43m,\u001B[49m\u001B[43m \u001B[49m\u001B[43merrors\u001B[49m\u001B[38;5;241;43m=\u001B[39;49m\u001B[43merrors\u001B[49m\u001B[43m)\u001B[49m\n\u001B[0;32m   4754\u001B[0m     indexer \u001B[38;5;241m=\u001B[39m axis\u001B[38;5;241m.\u001B[39mget_indexer(new_axis)\n\u001B[0;32m   4756\u001B[0m \u001B[38;5;66;03m# Case for non-unique axis\u001B[39;00m\n\u001B[0;32m   4757\u001B[0m \u001B[38;5;28;01melse\u001B[39;00m:\n",
      "File \u001B[1;32mC:\\ProgramData\\anaconda3\\envs\\kaggle\\lib\\site-packages\\pandas\\core\\indexes\\base.py:7000\u001B[0m, in \u001B[0;36mIndex.drop\u001B[1;34m(self, labels, errors)\u001B[0m\n\u001B[0;32m   6998\u001B[0m \u001B[38;5;28;01mif\u001B[39;00m mask\u001B[38;5;241m.\u001B[39many():\n\u001B[0;32m   6999\u001B[0m     \u001B[38;5;28;01mif\u001B[39;00m errors \u001B[38;5;241m!=\u001B[39m \u001B[38;5;124m\"\u001B[39m\u001B[38;5;124mignore\u001B[39m\u001B[38;5;124m\"\u001B[39m:\n\u001B[1;32m-> 7000\u001B[0m         \u001B[38;5;28;01mraise\u001B[39;00m \u001B[38;5;167;01mKeyError\u001B[39;00m(\u001B[38;5;124mf\u001B[39m\u001B[38;5;124m\"\u001B[39m\u001B[38;5;132;01m{\u001B[39;00mlabels[mask]\u001B[38;5;241m.\u001B[39mtolist()\u001B[38;5;132;01m}\u001B[39;00m\u001B[38;5;124m not found in axis\u001B[39m\u001B[38;5;124m\"\u001B[39m)\n\u001B[0;32m   7001\u001B[0m     indexer \u001B[38;5;241m=\u001B[39m indexer[\u001B[38;5;241m~\u001B[39mmask]\n\u001B[0;32m   7002\u001B[0m \u001B[38;5;28;01mreturn\u001B[39;00m \u001B[38;5;28mself\u001B[39m\u001B[38;5;241m.\u001B[39mdelete(indexer)\n",
      "\u001B[1;31mKeyError\u001B[0m: \"['num_group1'] not found in axis\""
     ]
    }
   ],
   "source": [
    "# We need to use aggregation functions in tables with depth > 1, so tables that contain num_group1 column or \n",
    "# also num_group2 column.\n",
    "train_person_1_feats_1 = train_person_1.groupby(\"case_id\").agg(\n",
    "    {\"mainoccupationinc_384A\": \"max\",\n",
    "     \"incometype_1044T\": lambda x: (x == \"SELFEMPLOYED\").max()}\n",
    ").rename(columns={\"mainoccupationinc_384A\": \"mainoccupationinc_384A_max\",\n",
    "                  \"incometype_1044T\": \"mainoccupationinc_384A_any_selfemployed\"})\n",
    "\n",
    "# Here num_group1=0 has special meaning, it is the person who applied for the loan.\n",
    "train_person_1_feats_2 = train_person_1[train_person_1[\"num_group1\"] == 0][[\"case_id\", \"housetype_905L\"]] \\\n",
    "    .rename(columns={\"housetype_905L\": \"person_housetype\"}).drop(columns=[\"num_group1\"])\n",
    "\n",
    "# Here we have num_goup1 and num_group2, so we need to aggregate again.\n",
    "train_credit_bureau_b_2_feats = train_credit_bureau_b_2.groupby(\"case_id\").agg(\n",
    "    {\"pmts_pmtsoverdue_635A\": \"max\",\n",
    "     \"pmts_dpdvalue_108P\": lambda x: (x > 31).max()}\n",
    ").rename(columns={\"pmts_pmtsoverdue_635A\": \"pmts_pmtsoverdue_635A_max\",\n",
    "                  \"pmts_dpdvalue_108P\": \"pmts_dpdvalue_108P_over31\"})\n",
    "\n",
    "# We will process in this examples only A-type and M-type columns, so we need to select them.\n",
    "selected_static_cols = [col for col in train_static.columns if col[-1] in (\"A\", \"M\")]\n",
    "print(selected_static_cols)\n",
    "\n",
    "selected_static_cb_cols = [col for col in train_static_cb.columns if col[-1] in (\"A\", \"M\")]\n",
    "print(selected_static_cb_cols)\n",
    "\n",
    "# Join all tables together.\n",
    "data = train_basetable.merge(train_static[[\"case_id\"] + selected_static_cols], how=\"left\", on=\"case_id\") \\\n",
    "    .merge(train_static_cb[[\"case_id\"] + selected_static_cb_cols], how=\"left\", on=\"case_id\") \\\n",
    "    .merge(train_person_1_feats_1, how=\"left\", on=\"case_id\") \\\n",
    "    .merge(train_person_1_feats_2, how=\"left\", on=\"case_id\") \\\n",
    "    .merge(train_credit_bureau_b_2_feats, how=\"left\", on=\"case_id\")\n"
   ],
   "metadata": {
    "collapsed": false,
    "ExecuteTime": {
     "end_time": "2024-03-13T21:52:39.311683Z",
     "start_time": "2024-03-13T21:49:26.103771Z"
    }
   },
   "id": "19fb97fe3d84eea1",
   "execution_count": 17
  },
  {
   "cell_type": "code",
   "outputs": [
    {
     "data": {
      "text/plain": "         case_id  birth_259D birthdate_87D  childnum_185L  \\\n0              0  1986-07-01           NaN            NaN   \n1              0         NaN           NaN            NaN   \n2              0         NaN           NaN            NaN   \n3              0         NaN           NaN            NaN   \n4              1  1957-08-01           NaN            NaN   \n...          ...         ...           ...            ...   \n2973986  2703451         NaN           NaN            NaN   \n2973987  2703452  1977-08-01           NaN            NaN   \n2973988  2703453  1950-02-01           NaN            NaN   \n2973989  2703453         NaN           NaN            NaN   \n2973990  2703454  1948-04-01           NaN            NaN   \n\n        contaddr_district_15M contaddr_matchlist_1032L  \\\n0                   P88_18_84                    False   \n1                    a55475b1                      NaN   \n2                    a55475b1                      NaN   \n3                    a55475b1                      NaN   \n4                  P103_93_94                    False   \n...                       ...                      ...   \n2973986              a55475b1                      NaN   \n2973987           P133_44_167                    False   \n2973988             P123_6_84                    False   \n2973989              a55475b1                      NaN   \n2973990            P48_127_19                    False   \n\n        contaddr_smempladdr_334L contaddr_zipcode_807M education_927M  \\\n0                          False          P167_100_165     P97_36_170   \n1                            NaN              a55475b1       a55475b1   \n2                            NaN              a55475b1       a55475b1   \n3                            NaN              a55475b1       a55475b1   \n4                          False           P176_37_166     P97_36_170   \n...                          ...                   ...            ...   \n2973986                      NaN              a55475b1       a55475b1   \n2973987                    False            P59_150_74       a55475b1   \n2973988                    False           P46_103_143       a55475b1   \n2973989                      NaN              a55475b1       a55475b1   \n2973990                    False           P78_144_175       a55475b1   \n\n        empl_employedfrom_271D  ... registaddr_district_1083M  \\\n0                   2017-09-15  ...                 P88_18_84   \n1                          NaN  ...                  a55475b1   \n2                          NaN  ...                  a55475b1   \n3                          NaN  ...                  a55475b1   \n4                   2008-10-29  ...                P103_93_94   \n...                        ...  ...                       ...   \n2973986                    NaN  ...                  a55475b1   \n2973987                    NaN  ...                P19_11_176   \n2973988                    NaN  ...                 P123_6_84   \n2973989                    NaN  ...                  a55475b1   \n2973990                    NaN  ...                P48_127_19   \n\n        registaddr_zipcode_184M relationshiptoclient_415T  \\\n0                  P167_100_165                       NaN   \n1                      a55475b1                    SPOUSE   \n2                      a55475b1                 COLLEAGUE   \n3                      a55475b1                       NaN   \n4                   P176_37_166                       NaN   \n...                         ...                       ...   \n2973986                a55475b1                       NaN   \n2973987               P11_15_81                       NaN   \n2973988             P46_103_143                       NaN   \n2973989                a55475b1                       NaN   \n2973990             P78_144_175                       NaN   \n\n        relationshiptoclient_642T remitter_829L role_1084L role_993L  \\\n0                             NaN           NaN         CL       NaN   \n1                             NaN         False         EM       NaN   \n2                          SPOUSE         False         PE       NaN   \n3                       COLLEAGUE           NaN         PE       NaN   \n4                             NaN           NaN         CL       NaN   \n...                           ...           ...        ...       ...   \n2973986                       NaN           NaN         CL       NaN   \n2973987                       NaN           NaN         CL       NaN   \n2973988                       NaN           NaN         CL       NaN   \n2973989                       NaN           NaN         CL       NaN   \n2973990                       NaN           NaN         CL       NaN   \n\n        safeguarantyflag_411L sex_738L        type_25L  \n0                        True        F  PRIMARY_MOBILE  \n1                         NaN      NaN           PHONE  \n2                         NaN      NaN           PHONE  \n3                         NaN      NaN           PHONE  \n4                        True        M  PRIMARY_MOBILE  \n...                       ...      ...             ...  \n2973986                   NaN      NaN      HOME_PHONE  \n2973987                 False        M  PRIMARY_MOBILE  \n2973988                 False        F  PRIMARY_MOBILE  \n2973989                   NaN      NaN      HOME_PHONE  \n2973990                  True        F  PRIMARY_MOBILE  \n\n[2973991 rows x 37 columns]",
      "text/html": "<div>\n<style scoped>\n    .dataframe tbody tr th:only-of-type {\n        vertical-align: middle;\n    }\n\n    .dataframe tbody tr th {\n        vertical-align: top;\n    }\n\n    .dataframe thead th {\n        text-align: right;\n    }\n</style>\n<table border=\"1\" class=\"dataframe\">\n  <thead>\n    <tr style=\"text-align: right;\">\n      <th></th>\n      <th>case_id</th>\n      <th>birth_259D</th>\n      <th>birthdate_87D</th>\n      <th>childnum_185L</th>\n      <th>contaddr_district_15M</th>\n      <th>contaddr_matchlist_1032L</th>\n      <th>contaddr_smempladdr_334L</th>\n      <th>contaddr_zipcode_807M</th>\n      <th>education_927M</th>\n      <th>empl_employedfrom_271D</th>\n      <th>...</th>\n      <th>registaddr_district_1083M</th>\n      <th>registaddr_zipcode_184M</th>\n      <th>relationshiptoclient_415T</th>\n      <th>relationshiptoclient_642T</th>\n      <th>remitter_829L</th>\n      <th>role_1084L</th>\n      <th>role_993L</th>\n      <th>safeguarantyflag_411L</th>\n      <th>sex_738L</th>\n      <th>type_25L</th>\n    </tr>\n  </thead>\n  <tbody>\n    <tr>\n      <th>0</th>\n      <td>0</td>\n      <td>1986-07-01</td>\n      <td>NaN</td>\n      <td>NaN</td>\n      <td>P88_18_84</td>\n      <td>False</td>\n      <td>False</td>\n      <td>P167_100_165</td>\n      <td>P97_36_170</td>\n      <td>2017-09-15</td>\n      <td>...</td>\n      <td>P88_18_84</td>\n      <td>P167_100_165</td>\n      <td>NaN</td>\n      <td>NaN</td>\n      <td>NaN</td>\n      <td>CL</td>\n      <td>NaN</td>\n      <td>True</td>\n      <td>F</td>\n      <td>PRIMARY_MOBILE</td>\n    </tr>\n    <tr>\n      <th>1</th>\n      <td>0</td>\n      <td>NaN</td>\n      <td>NaN</td>\n      <td>NaN</td>\n      <td>a55475b1</td>\n      <td>NaN</td>\n      <td>NaN</td>\n      <td>a55475b1</td>\n      <td>a55475b1</td>\n      <td>NaN</td>\n      <td>...</td>\n      <td>a55475b1</td>\n      <td>a55475b1</td>\n      <td>SPOUSE</td>\n      <td>NaN</td>\n      <td>False</td>\n      <td>EM</td>\n      <td>NaN</td>\n      <td>NaN</td>\n      <td>NaN</td>\n      <td>PHONE</td>\n    </tr>\n    <tr>\n      <th>2</th>\n      <td>0</td>\n      <td>NaN</td>\n      <td>NaN</td>\n      <td>NaN</td>\n      <td>a55475b1</td>\n      <td>NaN</td>\n      <td>NaN</td>\n      <td>a55475b1</td>\n      <td>a55475b1</td>\n      <td>NaN</td>\n      <td>...</td>\n      <td>a55475b1</td>\n      <td>a55475b1</td>\n      <td>COLLEAGUE</td>\n      <td>SPOUSE</td>\n      <td>False</td>\n      <td>PE</td>\n      <td>NaN</td>\n      <td>NaN</td>\n      <td>NaN</td>\n      <td>PHONE</td>\n    </tr>\n    <tr>\n      <th>3</th>\n      <td>0</td>\n      <td>NaN</td>\n      <td>NaN</td>\n      <td>NaN</td>\n      <td>a55475b1</td>\n      <td>NaN</td>\n      <td>NaN</td>\n      <td>a55475b1</td>\n      <td>a55475b1</td>\n      <td>NaN</td>\n      <td>...</td>\n      <td>a55475b1</td>\n      <td>a55475b1</td>\n      <td>NaN</td>\n      <td>COLLEAGUE</td>\n      <td>NaN</td>\n      <td>PE</td>\n      <td>NaN</td>\n      <td>NaN</td>\n      <td>NaN</td>\n      <td>PHONE</td>\n    </tr>\n    <tr>\n      <th>4</th>\n      <td>1</td>\n      <td>1957-08-01</td>\n      <td>NaN</td>\n      <td>NaN</td>\n      <td>P103_93_94</td>\n      <td>False</td>\n      <td>False</td>\n      <td>P176_37_166</td>\n      <td>P97_36_170</td>\n      <td>2008-10-29</td>\n      <td>...</td>\n      <td>P103_93_94</td>\n      <td>P176_37_166</td>\n      <td>NaN</td>\n      <td>NaN</td>\n      <td>NaN</td>\n      <td>CL</td>\n      <td>NaN</td>\n      <td>True</td>\n      <td>M</td>\n      <td>PRIMARY_MOBILE</td>\n    </tr>\n    <tr>\n      <th>...</th>\n      <td>...</td>\n      <td>...</td>\n      <td>...</td>\n      <td>...</td>\n      <td>...</td>\n      <td>...</td>\n      <td>...</td>\n      <td>...</td>\n      <td>...</td>\n      <td>...</td>\n      <td>...</td>\n      <td>...</td>\n      <td>...</td>\n      <td>...</td>\n      <td>...</td>\n      <td>...</td>\n      <td>...</td>\n      <td>...</td>\n      <td>...</td>\n      <td>...</td>\n      <td>...</td>\n    </tr>\n    <tr>\n      <th>2973986</th>\n      <td>2703451</td>\n      <td>NaN</td>\n      <td>NaN</td>\n      <td>NaN</td>\n      <td>a55475b1</td>\n      <td>NaN</td>\n      <td>NaN</td>\n      <td>a55475b1</td>\n      <td>a55475b1</td>\n      <td>NaN</td>\n      <td>...</td>\n      <td>a55475b1</td>\n      <td>a55475b1</td>\n      <td>NaN</td>\n      <td>NaN</td>\n      <td>NaN</td>\n      <td>CL</td>\n      <td>NaN</td>\n      <td>NaN</td>\n      <td>NaN</td>\n      <td>HOME_PHONE</td>\n    </tr>\n    <tr>\n      <th>2973987</th>\n      <td>2703452</td>\n      <td>1977-08-01</td>\n      <td>NaN</td>\n      <td>NaN</td>\n      <td>P133_44_167</td>\n      <td>False</td>\n      <td>False</td>\n      <td>P59_150_74</td>\n      <td>a55475b1</td>\n      <td>NaN</td>\n      <td>...</td>\n      <td>P19_11_176</td>\n      <td>P11_15_81</td>\n      <td>NaN</td>\n      <td>NaN</td>\n      <td>NaN</td>\n      <td>CL</td>\n      <td>NaN</td>\n      <td>False</td>\n      <td>M</td>\n      <td>PRIMARY_MOBILE</td>\n    </tr>\n    <tr>\n      <th>2973988</th>\n      <td>2703453</td>\n      <td>1950-02-01</td>\n      <td>NaN</td>\n      <td>NaN</td>\n      <td>P123_6_84</td>\n      <td>False</td>\n      <td>False</td>\n      <td>P46_103_143</td>\n      <td>a55475b1</td>\n      <td>NaN</td>\n      <td>...</td>\n      <td>P123_6_84</td>\n      <td>P46_103_143</td>\n      <td>NaN</td>\n      <td>NaN</td>\n      <td>NaN</td>\n      <td>CL</td>\n      <td>NaN</td>\n      <td>False</td>\n      <td>F</td>\n      <td>PRIMARY_MOBILE</td>\n    </tr>\n    <tr>\n      <th>2973989</th>\n      <td>2703453</td>\n      <td>NaN</td>\n      <td>NaN</td>\n      <td>NaN</td>\n      <td>a55475b1</td>\n      <td>NaN</td>\n      <td>NaN</td>\n      <td>a55475b1</td>\n      <td>a55475b1</td>\n      <td>NaN</td>\n      <td>...</td>\n      <td>a55475b1</td>\n      <td>a55475b1</td>\n      <td>NaN</td>\n      <td>NaN</td>\n      <td>NaN</td>\n      <td>CL</td>\n      <td>NaN</td>\n      <td>NaN</td>\n      <td>NaN</td>\n      <td>HOME_PHONE</td>\n    </tr>\n    <tr>\n      <th>2973990</th>\n      <td>2703454</td>\n      <td>1948-04-01</td>\n      <td>NaN</td>\n      <td>NaN</td>\n      <td>P48_127_19</td>\n      <td>False</td>\n      <td>False</td>\n      <td>P78_144_175</td>\n      <td>a55475b1</td>\n      <td>NaN</td>\n      <td>...</td>\n      <td>P48_127_19</td>\n      <td>P78_144_175</td>\n      <td>NaN</td>\n      <td>NaN</td>\n      <td>NaN</td>\n      <td>CL</td>\n      <td>NaN</td>\n      <td>True</td>\n      <td>F</td>\n      <td>PRIMARY_MOBILE</td>\n    </tr>\n  </tbody>\n</table>\n<p>2973991 rows × 37 columns</p>\n</div>"
     },
     "execution_count": 18,
     "metadata": {},
     "output_type": "execute_result"
    }
   ],
   "source": [
    "train_person_1"
   ],
   "metadata": {
    "collapsed": false,
    "ExecuteTime": {
     "end_time": "2024-03-13T21:54:41.885999Z",
     "start_time": "2024-03-13T21:54:41.685001Z"
    }
   },
   "id": "743cbea5c10da1ea",
   "execution_count": 18
  }
 ],
 "metadata": {
  "kernelspec": {
   "display_name": "Python 3",
   "language": "python",
   "name": "python3"
  },
  "language_info": {
   "codemirror_mode": {
    "name": "ipython",
    "version": 2
   },
   "file_extension": ".py",
   "mimetype": "text/x-python",
   "name": "python",
   "nbconvert_exporter": "python",
   "pygments_lexer": "ipython2",
   "version": "2.7.6"
  }
 },
 "nbformat": 4,
 "nbformat_minor": 5
}
